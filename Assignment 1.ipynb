{
 "cells": [
  {
   "cell_type": "markdown",
   "id": "ec3ab989",
   "metadata": {},
   "source": [
    "Assignment 1:\n",
    "    - Chapter 1 - Problem 12, Problems 26 and 27\n",
    "    - Chapter 2 - Problem 13, Problem 19, Problem 21, Problem 22, Problem 23"
   ]
  },
  {
   "cell_type": "code",
   "execution_count": 1,
   "id": "6c7b424e",
   "metadata": {},
   "outputs": [],
   "source": [
    "import math\n",
    "import pandas as pd\n",
    "import numpy as np\n",
    "from scipy.stats import t, ttest_ind\n",
    "import matplotlib.pyplot as plt\n",
    "import seaborn as sns"
   ]
  },
  {
   "cell_type": "markdown",
   "id": "ad585191",
   "metadata": {},
   "source": [
    "### Chapter 1 Ex 12\n",
    "\n",
    "##### Fish Oil and Blood Pressure. Researchers used 7 red and 7 black playing cards to randomly assign 14 volunteer males with high blood pressure to one of two diets for four weeks: a fish oil diet and a standard oil diet. The reductions in diastolic blood pressure are shown below:"
   ]
  },
  {
   "cell_type": "code",
   "execution_count": 2,
   "id": "13749015",
   "metadata": {},
   "outputs": [],
   "source": [
    "df = pd.DataFrame({'Fish oil diet': [8,12,10,14,2,0,0], 'Regular oil diet': [-6, 0,1,2,-3,-4,2]})"
   ]
  },
  {
   "cell_type": "code",
   "execution_count": 3,
   "id": "e9082d27",
   "metadata": {},
   "outputs": [
    {
     "data": {
      "text/html": [
       "<div>\n",
       "<style scoped>\n",
       "    .dataframe tbody tr th:only-of-type {\n",
       "        vertical-align: middle;\n",
       "    }\n",
       "\n",
       "    .dataframe tbody tr th {\n",
       "        vertical-align: top;\n",
       "    }\n",
       "\n",
       "    .dataframe thead th {\n",
       "        text-align: right;\n",
       "    }\n",
       "</style>\n",
       "<table border=\"1\" class=\"dataframe\">\n",
       "  <thead>\n",
       "    <tr style=\"text-align: right;\">\n",
       "      <th></th>\n",
       "      <th>Fish oil diet</th>\n",
       "      <th>Regular oil diet</th>\n",
       "    </tr>\n",
       "  </thead>\n",
       "  <tbody>\n",
       "    <tr>\n",
       "      <th>0</th>\n",
       "      <td>8</td>\n",
       "      <td>-6</td>\n",
       "    </tr>\n",
       "    <tr>\n",
       "      <th>1</th>\n",
       "      <td>12</td>\n",
       "      <td>0</td>\n",
       "    </tr>\n",
       "    <tr>\n",
       "      <th>2</th>\n",
       "      <td>10</td>\n",
       "      <td>1</td>\n",
       "    </tr>\n",
       "    <tr>\n",
       "      <th>3</th>\n",
       "      <td>14</td>\n",
       "      <td>2</td>\n",
       "    </tr>\n",
       "    <tr>\n",
       "      <th>4</th>\n",
       "      <td>2</td>\n",
       "      <td>-3</td>\n",
       "    </tr>\n",
       "  </tbody>\n",
       "</table>\n",
       "</div>"
      ],
      "text/plain": [
       "   Fish oil diet  Regular oil diet\n",
       "0              8                -6\n",
       "1             12                 0\n",
       "2             10                 1\n",
       "3             14                 2\n",
       "4              2                -3"
      ]
     },
     "execution_count": 3,
     "metadata": {},
     "output_type": "execute_result"
    }
   ],
   "source": [
    "df.head()"
   ]
  },
  {
   "cell_type": "code",
   "execution_count": 4,
   "id": "e0d3360b",
   "metadata": {},
   "outputs": [
    {
     "data": {
      "text/html": [
       "<div>\n",
       "<style scoped>\n",
       "    .dataframe tbody tr th:only-of-type {\n",
       "        vertical-align: middle;\n",
       "    }\n",
       "\n",
       "    .dataframe tbody tr th {\n",
       "        vertical-align: top;\n",
       "    }\n",
       "\n",
       "    .dataframe thead th {\n",
       "        text-align: right;\n",
       "    }\n",
       "</style>\n",
       "<table border=\"1\" class=\"dataframe\">\n",
       "  <thead>\n",
       "    <tr style=\"text-align: right;\">\n",
       "      <th></th>\n",
       "      <th>Fish oil diet</th>\n",
       "      <th>Regular oil diet</th>\n",
       "    </tr>\n",
       "  </thead>\n",
       "  <tbody>\n",
       "    <tr>\n",
       "      <th>count</th>\n",
       "      <td>7.000000</td>\n",
       "      <td>7.000000</td>\n",
       "    </tr>\n",
       "    <tr>\n",
       "      <th>mean</th>\n",
       "      <td>6.571429</td>\n",
       "      <td>-1.142857</td>\n",
       "    </tr>\n",
       "    <tr>\n",
       "      <th>std</th>\n",
       "      <td>5.855400</td>\n",
       "      <td>3.184785</td>\n",
       "    </tr>\n",
       "    <tr>\n",
       "      <th>min</th>\n",
       "      <td>0.000000</td>\n",
       "      <td>-6.000000</td>\n",
       "    </tr>\n",
       "    <tr>\n",
       "      <th>25%</th>\n",
       "      <td>1.000000</td>\n",
       "      <td>-3.500000</td>\n",
       "    </tr>\n",
       "    <tr>\n",
       "      <th>50%</th>\n",
       "      <td>8.000000</td>\n",
       "      <td>0.000000</td>\n",
       "    </tr>\n",
       "    <tr>\n",
       "      <th>75%</th>\n",
       "      <td>11.000000</td>\n",
       "      <td>1.500000</td>\n",
       "    </tr>\n",
       "    <tr>\n",
       "      <th>max</th>\n",
       "      <td>14.000000</td>\n",
       "      <td>2.000000</td>\n",
       "    </tr>\n",
       "  </tbody>\n",
       "</table>\n",
       "</div>"
      ],
      "text/plain": [
       "       Fish oil diet  Regular oil diet\n",
       "count       7.000000          7.000000\n",
       "mean        6.571429         -1.142857\n",
       "std         5.855400          3.184785\n",
       "min         0.000000         -6.000000\n",
       "25%         1.000000         -3.500000\n",
       "50%         8.000000          0.000000\n",
       "75%        11.000000          1.500000\n",
       "max        14.000000          2.000000"
      ]
     },
     "execution_count": 4,
     "metadata": {},
     "output_type": "execute_result"
    }
   ],
   "source": [
    "df.describe()"
   ]
  },
  {
   "cell_type": "code",
   "execution_count": 6,
   "id": "94b25e80",
   "metadata": {},
   "outputs": [
    {
     "data": {
      "text/plain": [
       "Fish oil diet       8.0\n",
       "Regular oil diet    0.0\n",
       "dtype: float64"
      ]
     },
     "execution_count": 6,
     "metadata": {},
     "output_type": "execute_result"
    }
   ],
   "source": [
    "df.median()"
   ]
  },
  {
   "cell_type": "markdown",
   "id": "4b4f6465",
   "metadata": {},
   "source": [
    "Even though the experiment can be considered as randomised controlled, we can still draw inference from the measures of central tendency.\n",
    "\n",
    "Mean value of the samples in the 2 sets are different which can be attributed to the type of diet itself.\n",
    "\n",
    "Same goes for the difference in Median (diffreence in rise by 8)."
   ]
  },
  {
   "cell_type": "markdown",
   "id": "929821f5",
   "metadata": {},
   "source": [
    "### Chapter 1 Ex 26\n",
    "\n",
    "##### Environmental Voting of Democrats and Republicans in the U.S. House of Representatives.\n",
    "\n",
    "<p>Each year, the League of Conservation Voters (LCV) identifies legislative votes taken in each\n",
    "house of the U.S. Congress—votes that are highly influential in establishing policy and action on\n",
    "environmental problems. The LCV then publishes whether each member of Congress cast a proenvironment\n",
    "or an anti-environment vote. Display 1.15 shows these votes during the years 2005,\n",
    "2006, and 2007 for members of the House of Representatives. Evaluate the evidence supporting\n",
    "party differences in the percentage of pro-environment votes.Write a brief report of your conclusion,\n",
    "including a graphical display and summary statistics.</p>"
   ]
  },
  {
   "cell_type": "code",
   "execution_count": 7,
   "id": "4e809621",
   "metadata": {},
   "outputs": [],
   "source": [
    "df_ex26 = pd.read_csv('./Datasets/ex0126.csv')"
   ]
  },
  {
   "cell_type": "code",
   "execution_count": 8,
   "id": "8d171102",
   "metadata": {},
   "outputs": [
    {
     "data": {
      "text/html": [
       "<div>\n",
       "<style scoped>\n",
       "    .dataframe tbody tr th:only-of-type {\n",
       "        vertical-align: middle;\n",
       "    }\n",
       "\n",
       "    .dataframe tbody tr th {\n",
       "        vertical-align: top;\n",
       "    }\n",
       "\n",
       "    .dataframe thead th {\n",
       "        text-align: right;\n",
       "    }\n",
       "</style>\n",
       "<table border=\"1\" class=\"dataframe\">\n",
       "  <thead>\n",
       "    <tr style=\"text-align: right;\">\n",
       "      <th></th>\n",
       "      <th>Unnamed: 0</th>\n",
       "      <th>State</th>\n",
       "      <th>Representative</th>\n",
       "      <th>Party</th>\n",
       "      <th>Pro05</th>\n",
       "      <th>Anti05</th>\n",
       "      <th>Pro06</th>\n",
       "      <th>Anti06</th>\n",
       "      <th>Pro07</th>\n",
       "      <th>Anti07</th>\n",
       "      <th>PctPro</th>\n",
       "    </tr>\n",
       "  </thead>\n",
       "  <tbody>\n",
       "    <tr>\n",
       "      <th>0</th>\n",
       "      <td>1</td>\n",
       "      <td>Alabama</td>\n",
       "      <td>Bonner</td>\n",
       "      <td>R</td>\n",
       "      <td>2.0</td>\n",
       "      <td>16.0</td>\n",
       "      <td>3.0</td>\n",
       "      <td>9.0</td>\n",
       "      <td>2.0</td>\n",
       "      <td>18.0</td>\n",
       "      <td>14.00</td>\n",
       "    </tr>\n",
       "    <tr>\n",
       "      <th>1</th>\n",
       "      <td>2</td>\n",
       "      <td>Alabama</td>\n",
       "      <td>Everett</td>\n",
       "      <td>R</td>\n",
       "      <td>0.0</td>\n",
       "      <td>18.0</td>\n",
       "      <td>1.0</td>\n",
       "      <td>11.0</td>\n",
       "      <td>2.0</td>\n",
       "      <td>18.0</td>\n",
       "      <td>6.00</td>\n",
       "    </tr>\n",
       "    <tr>\n",
       "      <th>2</th>\n",
       "      <td>3</td>\n",
       "      <td>Alabama</td>\n",
       "      <td>Rogers</td>\n",
       "      <td>R</td>\n",
       "      <td>1.0</td>\n",
       "      <td>17.0</td>\n",
       "      <td>2.0</td>\n",
       "      <td>10.0</td>\n",
       "      <td>3.0</td>\n",
       "      <td>17.0</td>\n",
       "      <td>12.00</td>\n",
       "    </tr>\n",
       "    <tr>\n",
       "      <th>3</th>\n",
       "      <td>4</td>\n",
       "      <td>Alabama</td>\n",
       "      <td>Aderholt</td>\n",
       "      <td>R</td>\n",
       "      <td>0.0</td>\n",
       "      <td>18.0</td>\n",
       "      <td>0.0</td>\n",
       "      <td>12.0</td>\n",
       "      <td>2.0</td>\n",
       "      <td>18.0</td>\n",
       "      <td>4.00</td>\n",
       "    </tr>\n",
       "    <tr>\n",
       "      <th>4</th>\n",
       "      <td>5</td>\n",
       "      <td>Alabama</td>\n",
       "      <td>Cramer</td>\n",
       "      <td>D</td>\n",
       "      <td>5.0</td>\n",
       "      <td>13.0</td>\n",
       "      <td>4.0</td>\n",
       "      <td>7.0</td>\n",
       "      <td>14.0</td>\n",
       "      <td>6.0</td>\n",
       "      <td>46.94</td>\n",
       "    </tr>\n",
       "  </tbody>\n",
       "</table>\n",
       "</div>"
      ],
      "text/plain": [
       "   Unnamed: 0    State Representative Party  Pro05  Anti05  Pro06  Anti06  \\\n",
       "0           1  Alabama         Bonner     R    2.0    16.0    3.0     9.0   \n",
       "1           2  Alabama        Everett     R    0.0    18.0    1.0    11.0   \n",
       "2           3  Alabama         Rogers     R    1.0    17.0    2.0    10.0   \n",
       "3           4  Alabama       Aderholt     R    0.0    18.0    0.0    12.0   \n",
       "4           5  Alabama         Cramer     D    5.0    13.0    4.0     7.0   \n",
       "\n",
       "   Pro07  Anti07  PctPro  \n",
       "0    2.0    18.0   14.00  \n",
       "1    2.0    18.0    6.00  \n",
       "2    3.0    17.0   12.00  \n",
       "3    2.0    18.0    4.00  \n",
       "4   14.0     6.0   46.94  "
      ]
     },
     "execution_count": 8,
     "metadata": {},
     "output_type": "execute_result"
    }
   ],
   "source": [
    "df_ex26.head()"
   ]
  },
  {
   "cell_type": "code",
   "execution_count": 9,
   "id": "8d734138",
   "metadata": {},
   "outputs": [
    {
     "data": {
      "text/html": [
       "<div>\n",
       "<style scoped>\n",
       "    .dataframe tbody tr th:only-of-type {\n",
       "        vertical-align: middle;\n",
       "    }\n",
       "\n",
       "    .dataframe tbody tr th {\n",
       "        vertical-align: top;\n",
       "    }\n",
       "\n",
       "    .dataframe thead th {\n",
       "        text-align: right;\n",
       "    }\n",
       "</style>\n",
       "<table border=\"1\" class=\"dataframe\">\n",
       "  <thead>\n",
       "    <tr style=\"text-align: right;\">\n",
       "      <th></th>\n",
       "      <th>Unnamed: 0</th>\n",
       "      <th>Pro05</th>\n",
       "      <th>Anti05</th>\n",
       "      <th>Pro06</th>\n",
       "      <th>Anti06</th>\n",
       "      <th>Pro07</th>\n",
       "      <th>Anti07</th>\n",
       "      <th>PctPro</th>\n",
       "    </tr>\n",
       "  </thead>\n",
       "  <tbody>\n",
       "    <tr>\n",
       "      <th>count</th>\n",
       "      <td>492.000000</td>\n",
       "      <td>437.00000</td>\n",
       "      <td>437.000000</td>\n",
       "      <td>434.000000</td>\n",
       "      <td>434.000000</td>\n",
       "      <td>435.000000</td>\n",
       "      <td>430.000000</td>\n",
       "      <td>492.000000</td>\n",
       "    </tr>\n",
       "    <tr>\n",
       "      <th>mean</th>\n",
       "      <td>246.500000</td>\n",
       "      <td>8.01373</td>\n",
       "      <td>9.526316</td>\n",
       "      <td>5.813364</td>\n",
       "      <td>5.801843</td>\n",
       "      <td>10.645977</td>\n",
       "      <td>9.200000</td>\n",
       "      <td>50.907846</td>\n",
       "    </tr>\n",
       "    <tr>\n",
       "      <th>std</th>\n",
       "      <td>142.172431</td>\n",
       "      <td>7.17378</td>\n",
       "      <td>7.227773</td>\n",
       "      <td>4.856814</td>\n",
       "      <td>4.815525</td>\n",
       "      <td>7.729511</td>\n",
       "      <td>7.737054</td>\n",
       "      <td>39.487924</td>\n",
       "    </tr>\n",
       "    <tr>\n",
       "      <th>min</th>\n",
       "      <td>1.000000</td>\n",
       "      <td>0.00000</td>\n",
       "      <td>0.000000</td>\n",
       "      <td>0.000000</td>\n",
       "      <td>0.000000</td>\n",
       "      <td>0.000000</td>\n",
       "      <td>0.000000</td>\n",
       "      <td>0.000000</td>\n",
       "    </tr>\n",
       "    <tr>\n",
       "      <th>25%</th>\n",
       "      <td>123.750000</td>\n",
       "      <td>1.00000</td>\n",
       "      <td>1.000000</td>\n",
       "      <td>1.000000</td>\n",
       "      <td>0.250000</td>\n",
       "      <td>2.000000</td>\n",
       "      <td>2.000000</td>\n",
       "      <td>7.080000</td>\n",
       "    </tr>\n",
       "    <tr>\n",
       "      <th>50%</th>\n",
       "      <td>246.500000</td>\n",
       "      <td>6.00000</td>\n",
       "      <td>10.000000</td>\n",
       "      <td>5.000000</td>\n",
       "      <td>6.000000</td>\n",
       "      <td>14.000000</td>\n",
       "      <td>6.000000</td>\n",
       "      <td>59.000000</td>\n",
       "    </tr>\n",
       "    <tr>\n",
       "      <th>75%</th>\n",
       "      <td>369.250000</td>\n",
       "      <td>16.00000</td>\n",
       "      <td>17.000000</td>\n",
       "      <td>11.000000</td>\n",
       "      <td>11.000000</td>\n",
       "      <td>18.000000</td>\n",
       "      <td>18.000000</td>\n",
       "      <td>92.000000</td>\n",
       "    </tr>\n",
       "    <tr>\n",
       "      <th>max</th>\n",
       "      <td>492.000000</td>\n",
       "      <td>18.00000</td>\n",
       "      <td>18.000000</td>\n",
       "      <td>12.000000</td>\n",
       "      <td>12.000000</td>\n",
       "      <td>20.000000</td>\n",
       "      <td>20.000000</td>\n",
       "      <td>100.000000</td>\n",
       "    </tr>\n",
       "  </tbody>\n",
       "</table>\n",
       "</div>"
      ],
      "text/plain": [
       "       Unnamed: 0      Pro05      Anti05       Pro06      Anti06       Pro07  \\\n",
       "count  492.000000  437.00000  437.000000  434.000000  434.000000  435.000000   \n",
       "mean   246.500000    8.01373    9.526316    5.813364    5.801843   10.645977   \n",
       "std    142.172431    7.17378    7.227773    4.856814    4.815525    7.729511   \n",
       "min      1.000000    0.00000    0.000000    0.000000    0.000000    0.000000   \n",
       "25%    123.750000    1.00000    1.000000    1.000000    0.250000    2.000000   \n",
       "50%    246.500000    6.00000   10.000000    5.000000    6.000000   14.000000   \n",
       "75%    369.250000   16.00000   17.000000   11.000000   11.000000   18.000000   \n",
       "max    492.000000   18.00000   18.000000   12.000000   12.000000   20.000000   \n",
       "\n",
       "           Anti07      PctPro  \n",
       "count  430.000000  492.000000  \n",
       "mean     9.200000   50.907846  \n",
       "std      7.737054   39.487924  \n",
       "min      0.000000    0.000000  \n",
       "25%      2.000000    7.080000  \n",
       "50%      6.000000   59.000000  \n",
       "75%     18.000000   92.000000  \n",
       "max     20.000000  100.000000  "
      ]
     },
     "execution_count": 9,
     "metadata": {},
     "output_type": "execute_result"
    }
   ],
   "source": [
    "df_ex26.describe()"
   ]
  },
  {
   "cell_type": "markdown",
   "id": "7f877881",
   "metadata": {},
   "source": [
    "<p>To evaluate the evidence supporting party differences in the percentage of pro-environment votes, we can first create a bar plot showing the average percentage of pro-environment votes for each party.</p>\n",
    "<p>To do this, we can group the data by party and calculate the mean percentage of pro-environment votes for each group.</p>"
   ]
  },
  {
   "cell_type": "code",
   "execution_count": 10,
   "id": "e06c1593",
   "metadata": {},
   "outputs": [
    {
     "data": {
      "image/png": "[encoded data removed]",
      "text/plain": [
       "<Figure size 640x480 with 1 Axes>"
      ]
     },
     "metadata": {},
     "output_type": "display_data"
    }
   ],
   "source": [
    "# Group the data by party and calculate the mean percentage of pro-environment votes for each group\n",
    "party_grouped = df_ex26.groupby('Party')['PctPro'].mean()\n",
    "\n",
    "# Create a bar plot showing the mean percentage of pro-environment votes for each party\n",
    "party_grouped.plot(kind='bar')\n",
    "plt.xlabel('Party')\n",
    "plt.ylabel('Mean Percentage of Pro-Environment Votes')\n",
    "plt.show()"
   ]
  },
  {
   "cell_type": "markdown",
   "id": "b4bf4617",
   "metadata": {},
   "source": [
    "###### The bar plot shows that, on average, representatives from the Democratic party had a higher percentage of pro-environment votes than those from the Republican party."
   ]
  },
  {
   "cell_type": "markdown",
   "id": "fee9a509",
   "metadata": {},
   "source": [
    "<p>We can also calculate summary statistics for the percentage of pro-environment votes for each party to further support this conclusion.</p>"
   ]
  },
  {
   "cell_type": "code",
   "execution_count": 11,
   "id": "a831ec6b",
   "metadata": {},
   "outputs": [
    {
     "name": "stdout",
     "output_type": "stream",
     "text": [
      "Mean percentage of pro-environment votes: Party\n",
      "D     85.897942\n",
      "I    100.000000\n",
      "R     16.172602\n",
      "Name: PctPro, dtype: float64\n",
      "Median percentage of pro-environment votes: Party\n",
      "D     92.000\n",
      "I    100.000\n",
      "R      7.275\n",
      "Name: PctPro, dtype: float64\n",
      "Standard deviation of percentage of pro-environment votes: Party\n",
      "D    15.306245\n",
      "I          NaN\n",
      "R    20.962347\n",
      "Name: PctPro, dtype: float64\n"
     ]
    }
   ],
   "source": [
    "# Calculate the mean, median, and standard deviation for the percentage of pro-environment votes by party\n",
    "mean_pct_pro = df_ex26.groupby('Party')['PctPro'].mean()\n",
    "median_pct_pro = df_ex26.groupby('Party')['PctPro'].median()\n",
    "std_pct_pro = df_ex26.groupby('Party')['PctPro'].std()\n",
    "\n",
    "# Print the summary statistics\n",
    "print(f'Mean percentage of pro-environment votes: {mean_pct_pro}')\n",
    "print(f'Median percentage of pro-environment votes: {median_pct_pro}')\n",
    "print(f'Standard deviation of percentage of pro-environment votes: {std_pct_pro}')"
   ]
  },
  {
   "cell_type": "markdown",
   "id": "ce0637f7",
   "metadata": {},
   "source": [
    "<p>The summary statistics show that the mean percentage of pro-environment votes was higher for the Democratic party (85.9%) compared to the Republican party (16.2%). The standard deviation was lower for the Democratic party (15.3%), indicating lower variability in the percentage of pro-environment votes among representatives from this party.</p>\n",
    "\n",
    "<p>Overall, the bar plot and summary statistics provide strong evidence supporting party differences in the percentage of pro-environment votes, with representatives from the Democratic party having a higher average percentage of pro-environment votes compared to those from the Republican party.</p>\n",
    "\n",
    "<p>We can safely ignore Independents as only one member exists in the dataset.</p>"
   ]
  },
  {
   "cell_type": "markdown",
   "id": "65187bd0",
   "metadata": {},
   "source": [
    "### Chapter 1 Ex 27\n",
    "\n",
    "##### Environmental Voting of Democrats and Republicans in the U.S. Senate."
   ]
  },
  {
   "cell_type": "code",
   "execution_count": 12,
   "id": "4043b94a",
   "metadata": {},
   "outputs": [],
   "source": [
    "df_ex27 = pd.read_csv('./Datasets/ex0127.csv')"
   ]
  },
  {
   "cell_type": "code",
   "execution_count": 13,
   "id": "74487d37",
   "metadata": {},
   "outputs": [
    {
     "data": {
      "text/html": [
       "<div>\n",
       "<style scoped>\n",
       "    .dataframe tbody tr th:only-of-type {\n",
       "        vertical-align: middle;\n",
       "    }\n",
       "\n",
       "    .dataframe tbody tr th {\n",
       "        vertical-align: top;\n",
       "    }\n",
       "\n",
       "    .dataframe thead th {\n",
       "        text-align: right;\n",
       "    }\n",
       "</style>\n",
       "<table border=\"1\" class=\"dataframe\">\n",
       "  <thead>\n",
       "    <tr style=\"text-align: right;\">\n",
       "      <th></th>\n",
       "      <th>Unnamed: 0</th>\n",
       "      <th>State</th>\n",
       "      <th>Senator</th>\n",
       "      <th>Party</th>\n",
       "      <th>Pro2005</th>\n",
       "      <th>Anti2005</th>\n",
       "      <th>Pro2006</th>\n",
       "      <th>Anti2006</th>\n",
       "      <th>Pro2007</th>\n",
       "      <th>Anti2007</th>\n",
       "      <th>PctPro</th>\n",
       "    </tr>\n",
       "  </thead>\n",
       "  <tbody>\n",
       "    <tr>\n",
       "      <th>0</th>\n",
       "      <td>1</td>\n",
       "      <td>Alabama</td>\n",
       "      <td>Session</td>\n",
       "      <td>R</td>\n",
       "      <td>1.0</td>\n",
       "      <td>18.0</td>\n",
       "      <td>0.0</td>\n",
       "      <td>7.0</td>\n",
       "      <td>2.0</td>\n",
       "      <td>13.0</td>\n",
       "      <td>7.32</td>\n",
       "    </tr>\n",
       "    <tr>\n",
       "      <th>1</th>\n",
       "      <td>2</td>\n",
       "      <td>Alabama</td>\n",
       "      <td>Shelby</td>\n",
       "      <td>R</td>\n",
       "      <td>1.0</td>\n",
       "      <td>19.0</td>\n",
       "      <td>0.0</td>\n",
       "      <td>7.0</td>\n",
       "      <td>1.0</td>\n",
       "      <td>14.0</td>\n",
       "      <td>4.76</td>\n",
       "    </tr>\n",
       "    <tr>\n",
       "      <th>2</th>\n",
       "      <td>3</td>\n",
       "      <td>Alaska</td>\n",
       "      <td>Murkowski</td>\n",
       "      <td>R</td>\n",
       "      <td>2.0</td>\n",
       "      <td>17.0</td>\n",
       "      <td>1.0</td>\n",
       "      <td>6.0</td>\n",
       "      <td>6.0</td>\n",
       "      <td>9.0</td>\n",
       "      <td>21.95</td>\n",
       "    </tr>\n",
       "    <tr>\n",
       "      <th>3</th>\n",
       "      <td>4</td>\n",
       "      <td>Alaska</td>\n",
       "      <td>Stevens</td>\n",
       "      <td>R</td>\n",
       "      <td>1.0</td>\n",
       "      <td>19.0</td>\n",
       "      <td>1.0</td>\n",
       "      <td>6.0</td>\n",
       "      <td>4.0</td>\n",
       "      <td>11.0</td>\n",
       "      <td>14.29</td>\n",
       "    </tr>\n",
       "    <tr>\n",
       "      <th>4</th>\n",
       "      <td>5</td>\n",
       "      <td>Arizona</td>\n",
       "      <td>Kyle</td>\n",
       "      <td>R</td>\n",
       "      <td>1.0</td>\n",
       "      <td>19.0</td>\n",
       "      <td>2.0</td>\n",
       "      <td>5.0</td>\n",
       "      <td>2.0</td>\n",
       "      <td>13.0</td>\n",
       "      <td>11.90</td>\n",
       "    </tr>\n",
       "  </tbody>\n",
       "</table>\n",
       "</div>"
      ],
      "text/plain": [
       "   Unnamed: 0    State    Senator Party  Pro2005  Anti2005  Pro2006  Anti2006  \\\n",
       "0           1  Alabama    Session     R      1.0      18.0      0.0       7.0   \n",
       "1           2  Alabama     Shelby     R      1.0      19.0      0.0       7.0   \n",
       "2           3   Alaska  Murkowski     R      2.0      17.0      1.0       6.0   \n",
       "3           4   Alaska    Stevens     R      1.0      19.0      1.0       6.0   \n",
       "4           5  Arizona       Kyle     R      1.0      19.0      2.0       5.0   \n",
       "\n",
       "   Pro2007  Anti2007  PctPro  \n",
       "0      2.0      13.0    7.32  \n",
       "1      1.0      14.0    4.76  \n",
       "2      6.0       9.0   21.95  \n",
       "3      4.0      11.0   14.29  \n",
       "4      2.0      13.0   11.90  "
      ]
     },
     "execution_count": 13,
     "metadata": {},
     "output_type": "execute_result"
    }
   ],
   "source": [
    "df_ex27.head()"
   ]
  },
  {
   "cell_type": "code",
   "execution_count": 14,
   "id": "d6b06cff",
   "metadata": {},
   "outputs": [
    {
     "data": {
      "text/html": [
       "<div>\n",
       "<style scoped>\n",
       "    .dataframe tbody tr th:only-of-type {\n",
       "        vertical-align: middle;\n",
       "    }\n",
       "\n",
       "    .dataframe tbody tr th {\n",
       "        vertical-align: top;\n",
       "    }\n",
       "\n",
       "    .dataframe thead th {\n",
       "        text-align: right;\n",
       "    }\n",
       "</style>\n",
       "<table border=\"1\" class=\"dataframe\">\n",
       "  <thead>\n",
       "    <tr style=\"text-align: right;\">\n",
       "      <th></th>\n",
       "      <th>Unnamed: 0</th>\n",
       "      <th>Pro2005</th>\n",
       "      <th>Anti2005</th>\n",
       "      <th>Pro2006</th>\n",
       "      <th>Anti2006</th>\n",
       "      <th>Pro2007</th>\n",
       "      <th>Anti2007</th>\n",
       "      <th>PctPro</th>\n",
       "    </tr>\n",
       "  </thead>\n",
       "  <tbody>\n",
       "    <tr>\n",
       "      <th>count</th>\n",
       "      <td>112.000000</td>\n",
       "      <td>100.000000</td>\n",
       "      <td>100.000000</td>\n",
       "      <td>100.000000</td>\n",
       "      <td>100.000000</td>\n",
       "      <td>101.000000</td>\n",
       "      <td>101.000000</td>\n",
       "      <td>112.000000</td>\n",
       "    </tr>\n",
       "    <tr>\n",
       "      <th>mean</th>\n",
       "      <td>56.500000</td>\n",
       "      <td>9.070000</td>\n",
       "      <td>10.590000</td>\n",
       "      <td>3.180000</td>\n",
       "      <td>3.690000</td>\n",
       "      <td>7.742574</td>\n",
       "      <td>6.950495</td>\n",
       "      <td>50.747946</td>\n",
       "    </tr>\n",
       "    <tr>\n",
       "      <th>std</th>\n",
       "      <td>32.475632</td>\n",
       "      <td>7.588209</td>\n",
       "      <td>7.667451</td>\n",
       "      <td>2.610701</td>\n",
       "      <td>2.654118</td>\n",
       "      <td>5.354724</td>\n",
       "      <td>5.324239</td>\n",
       "      <td>36.867638</td>\n",
       "    </tr>\n",
       "    <tr>\n",
       "      <th>min</th>\n",
       "      <td>1.000000</td>\n",
       "      <td>0.000000</td>\n",
       "      <td>0.000000</td>\n",
       "      <td>0.000000</td>\n",
       "      <td>0.000000</td>\n",
       "      <td>0.000000</td>\n",
       "      <td>0.000000</td>\n",
       "      <td>0.000000</td>\n",
       "    </tr>\n",
       "    <tr>\n",
       "      <th>25%</th>\n",
       "      <td>28.750000</td>\n",
       "      <td>1.000000</td>\n",
       "      <td>2.000000</td>\n",
       "      <td>1.000000</td>\n",
       "      <td>1.000000</td>\n",
       "      <td>2.000000</td>\n",
       "      <td>2.000000</td>\n",
       "      <td>11.702500</td>\n",
       "    </tr>\n",
       "    <tr>\n",
       "      <th>50%</th>\n",
       "      <td>56.500000</td>\n",
       "      <td>8.500000</td>\n",
       "      <td>11.500000</td>\n",
       "      <td>3.000000</td>\n",
       "      <td>4.000000</td>\n",
       "      <td>9.000000</td>\n",
       "      <td>5.000000</td>\n",
       "      <td>54.495000</td>\n",
       "    </tr>\n",
       "    <tr>\n",
       "      <th>75%</th>\n",
       "      <td>84.250000</td>\n",
       "      <td>17.000000</td>\n",
       "      <td>18.000000</td>\n",
       "      <td>5.000000</td>\n",
       "      <td>6.000000</td>\n",
       "      <td>13.000000</td>\n",
       "      <td>13.000000</td>\n",
       "      <td>86.670000</td>\n",
       "    </tr>\n",
       "    <tr>\n",
       "      <th>max</th>\n",
       "      <td>112.000000</td>\n",
       "      <td>20.000000</td>\n",
       "      <td>20.000000</td>\n",
       "      <td>7.000000</td>\n",
       "      <td>7.000000</td>\n",
       "      <td>15.000000</td>\n",
       "      <td>15.000000</td>\n",
       "      <td>100.000000</td>\n",
       "    </tr>\n",
       "  </tbody>\n",
       "</table>\n",
       "</div>"
      ],
      "text/plain": [
       "       Unnamed: 0     Pro2005    Anti2005     Pro2006    Anti2006     Pro2007  \\\n",
       "count  112.000000  100.000000  100.000000  100.000000  100.000000  101.000000   \n",
       "mean    56.500000    9.070000   10.590000    3.180000    3.690000    7.742574   \n",
       "std     32.475632    7.588209    7.667451    2.610701    2.654118    5.354724   \n",
       "min      1.000000    0.000000    0.000000    0.000000    0.000000    0.000000   \n",
       "25%     28.750000    1.000000    2.000000    1.000000    1.000000    2.000000   \n",
       "50%     56.500000    8.500000   11.500000    3.000000    4.000000    9.000000   \n",
       "75%     84.250000   17.000000   18.000000    5.000000    6.000000   13.000000   \n",
       "max    112.000000   20.000000   20.000000    7.000000    7.000000   15.000000   \n",
       "\n",
       "         Anti2007      PctPro  \n",
       "count  101.000000  112.000000  \n",
       "mean     6.950495   50.747946  \n",
       "std      5.324239   36.867638  \n",
       "min      0.000000    0.000000  \n",
       "25%      2.000000   11.702500  \n",
       "50%      5.000000   54.495000  \n",
       "75%     13.000000   86.670000  \n",
       "max     15.000000  100.000000  "
      ]
     },
     "execution_count": 14,
     "metadata": {},
     "output_type": "execute_result"
    }
   ],
   "source": [
    "df_ex27.describe()"
   ]
  },
  {
   "cell_type": "code",
   "execution_count": 15,
   "id": "6337910b",
   "metadata": {},
   "outputs": [
    {
     "data": {
      "image/png": "[encoded data removed]",
      "text/plain": [
       "<Figure size 640x480 with 1 Axes>"
      ]
     },
     "metadata": {},
     "output_type": "display_data"
    }
   ],
   "source": [
    "# Group the data by party and calculate the mean percentage of pro-environment votes for each group\n",
    "party_grouped = df_ex27.groupby('Party')['PctPro'].mean()\n",
    "\n",
    "# Create a bar plot showing the mean percentage of pro-environment votes for each party\n",
    "party_grouped.plot(kind='bar')\n",
    "plt.xlabel('Party')\n",
    "plt.ylabel('Mean Percentage of Pro-Environment Votes')\n",
    "plt.show()"
   ]
  },
  {
   "cell_type": "code",
   "execution_count": 16,
   "id": "9d925141",
   "metadata": {},
   "outputs": [
    {
     "name": "stdout",
     "output_type": "stream",
     "text": [
      "Mean percentage of pro-environment votes: Party\n",
      "D    83.641346\n",
      "I    92.436667\n",
      "R    18.545789\n",
      "Name: PctPro, dtype: float64\n",
      "Median percentage of pro-environment votes: Party\n",
      "D    86.67\n",
      "I    92.31\n",
      "R    11.90\n",
      "Name: PctPro, dtype: float64\n",
      "Standard deviation of percentage of pro-environment votes: Party\n",
      "D    12.513039\n",
      "I     0.837218\n",
      "R    19.956449\n",
      "Name: PctPro, dtype: float64\n"
     ]
    }
   ],
   "source": [
    "# Calculate the mean, median, and standard deviation for the percentage of pro-environment votes by party\n",
    "mean_pct_pro = df_ex27.groupby('Party')['PctPro'].mean()\n",
    "median_pct_pro = df_ex27.groupby('Party')['PctPro'].median()\n",
    "std_pct_pro = df_ex27.groupby('Party')['PctPro'].std()\n",
    "\n",
    "# Print the summary statistics\n",
    "print(f'Mean percentage of pro-environment votes: {mean_pct_pro}')\n",
    "print(f'Median percentage of pro-environment votes: {median_pct_pro}')\n",
    "print(f'Standard deviation of percentage of pro-environment votes: {std_pct_pro}')"
   ]
  },
  {
   "cell_type": "markdown",
   "id": "791acf06",
   "metadata": {},
   "source": [
    "### Chapter 2 Ex 13\n",
    "\n",
    "##### Fish Oil and Blood Pressure. \n",
    "Reconsider the changes in blood pressures for men placed on a\n",
    "fish oil diet and for men placed on a regular oil diet, from Chapter 1, Exercise 12. Do the following steps to compare the treatments:\n",
    "\n",
    "<ul>\n",
    "    <li>(a) Compute the averages and the sample standard deviations for each group separately.</li>\n",
    "    <li>(b) Compute the pooled estimate of standard deviation using the formula in Section 2.3.2.</li>\n",
    "    <li>(c) Compute SE.Y 2 ! Y 1/ using the formula in Section 2.3.2.</li>\n",
    "<li>(d) What are the degrees of freedom associated with the pooled estimate of standard deviation?\n",
    "    What is the 97.5th percentile of the t-distribution with this many degrees of freedom?</li>\n",
    "    <li>(e) Construct a 95% confidence interval for !2 ! !1 using the formula in Section 2.3.3.</li>\n",
    "    <li>(f) Compute the t -statistic for testing equality as shown in Section 2.3.5.</li>\n",
    "<li>(g) Find the one-sided p-value (as evidence that the fish oil diet resulted in greater reduction\n",
    "of blood pressure) by comparing the t -statistic in (f) to the percentiles of the appropriate\n",
    "t-distribution (by reading the appropriate percentile from a computer program or\n",
    "calculator).</li>\n",
    "</ul>"
   ]
  },
  {
   "cell_type": "code",
   "execution_count": 17,
   "id": "e38b1f6d",
   "metadata": {},
   "outputs": [],
   "source": [
    "df_ex0213 = pd.DataFrame({'Fish oil diet': [8,12,10,14,2,0,0], 'Regular oil diet': [-6, 0,1,2,-3,-4,2]})"
   ]
  },
  {
   "cell_type": "code",
   "execution_count": 18,
   "id": "a9eacbf1",
   "metadata": {},
   "outputs": [
    {
     "data": {
      "text/html": [
       "<div>\n",
       "<style scoped>\n",
       "    .dataframe tbody tr th:only-of-type {\n",
       "        vertical-align: middle;\n",
       "    }\n",
       "\n",
       "    .dataframe tbody tr th {\n",
       "        vertical-align: top;\n",
       "    }\n",
       "\n",
       "    .dataframe thead th {\n",
       "        text-align: right;\n",
       "    }\n",
       "</style>\n",
       "<table border=\"1\" class=\"dataframe\">\n",
       "  <thead>\n",
       "    <tr style=\"text-align: right;\">\n",
       "      <th></th>\n",
       "      <th>Fish oil diet</th>\n",
       "      <th>Regular oil diet</th>\n",
       "    </tr>\n",
       "  </thead>\n",
       "  <tbody>\n",
       "    <tr>\n",
       "      <th>0</th>\n",
       "      <td>8</td>\n",
       "      <td>-6</td>\n",
       "    </tr>\n",
       "    <tr>\n",
       "      <th>1</th>\n",
       "      <td>12</td>\n",
       "      <td>0</td>\n",
       "    </tr>\n",
       "    <tr>\n",
       "      <th>2</th>\n",
       "      <td>10</td>\n",
       "      <td>1</td>\n",
       "    </tr>\n",
       "    <tr>\n",
       "      <th>3</th>\n",
       "      <td>14</td>\n",
       "      <td>2</td>\n",
       "    </tr>\n",
       "    <tr>\n",
       "      <th>4</th>\n",
       "      <td>2</td>\n",
       "      <td>-3</td>\n",
       "    </tr>\n",
       "  </tbody>\n",
       "</table>\n",
       "</div>"
      ],
      "text/plain": [
       "   Fish oil diet  Regular oil diet\n",
       "0              8                -6\n",
       "1             12                 0\n",
       "2             10                 1\n",
       "3             14                 2\n",
       "4              2                -3"
      ]
     },
     "execution_count": 18,
     "metadata": {},
     "output_type": "execute_result"
    }
   ],
   "source": [
    "df_ex0213.head()"
   ]
  },
  {
   "cell_type": "markdown",
   "id": "612737d5",
   "metadata": {},
   "source": [
    "###### (a) Compute the averages and the sample standard deviations for each group separately."
   ]
  },
  {
   "cell_type": "code",
   "execution_count": 19,
   "id": "10a341c7",
   "metadata": {},
   "outputs": [
    {
     "data": {
      "text/html": [
       "<div>\n",
       "<style scoped>\n",
       "    .dataframe tbody tr th:only-of-type {\n",
       "        vertical-align: middle;\n",
       "    }\n",
       "\n",
       "    .dataframe tbody tr th {\n",
       "        vertical-align: top;\n",
       "    }\n",
       "\n",
       "    .dataframe thead th {\n",
       "        text-align: right;\n",
       "    }\n",
       "</style>\n",
       "<table border=\"1\" class=\"dataframe\">\n",
       "  <thead>\n",
       "    <tr style=\"text-align: right;\">\n",
       "      <th></th>\n",
       "      <th>Fish oil diet</th>\n",
       "      <th>Regular oil diet</th>\n",
       "    </tr>\n",
       "  </thead>\n",
       "  <tbody>\n",
       "    <tr>\n",
       "      <th>count</th>\n",
       "      <td>7.000000</td>\n",
       "      <td>7.000000</td>\n",
       "    </tr>\n",
       "    <tr>\n",
       "      <th>mean</th>\n",
       "      <td>6.571429</td>\n",
       "      <td>-1.142857</td>\n",
       "    </tr>\n",
       "    <tr>\n",
       "      <th>std</th>\n",
       "      <td>5.855400</td>\n",
       "      <td>3.184785</td>\n",
       "    </tr>\n",
       "    <tr>\n",
       "      <th>min</th>\n",
       "      <td>0.000000</td>\n",
       "      <td>-6.000000</td>\n",
       "    </tr>\n",
       "    <tr>\n",
       "      <th>25%</th>\n",
       "      <td>1.000000</td>\n",
       "      <td>-3.500000</td>\n",
       "    </tr>\n",
       "    <tr>\n",
       "      <th>50%</th>\n",
       "      <td>8.000000</td>\n",
       "      <td>0.000000</td>\n",
       "    </tr>\n",
       "    <tr>\n",
       "      <th>75%</th>\n",
       "      <td>11.000000</td>\n",
       "      <td>1.500000</td>\n",
       "    </tr>\n",
       "    <tr>\n",
       "      <th>max</th>\n",
       "      <td>14.000000</td>\n",
       "      <td>2.000000</td>\n",
       "    </tr>\n",
       "  </tbody>\n",
       "</table>\n",
       "</div>"
      ],
      "text/plain": [
       "       Fish oil diet  Regular oil diet\n",
       "count       7.000000          7.000000\n",
       "mean        6.571429         -1.142857\n",
       "std         5.855400          3.184785\n",
       "min         0.000000         -6.000000\n",
       "25%         1.000000         -3.500000\n",
       "50%         8.000000          0.000000\n",
       "75%        11.000000          1.500000\n",
       "max        14.000000          2.000000"
      ]
     },
     "execution_count": 19,
     "metadata": {},
     "output_type": "execute_result"
    }
   ],
   "source": [
    "df_ex0213.describe()"
   ]
  },
  {
   "cell_type": "code",
   "execution_count": 20,
   "id": "ea2c97f3",
   "metadata": {},
   "outputs": [
    {
     "data": {
      "text/plain": [
       "Fish oil diet       5.855400\n",
       "Regular oil diet    3.184785\n",
       "dtype: float64"
      ]
     },
     "execution_count": 20,
     "metadata": {},
     "output_type": "execute_result"
    }
   ],
   "source": [
    "df_ex0213.std()"
   ]
  },
  {
   "cell_type": "markdown",
   "id": "73d614a6",
   "metadata": {},
   "source": [
    "###### (b) Compute the pooled estimate of standard deviation using the formula in Section 2.3.2."
   ]
  },
  {
   "cell_type": "code",
   "execution_count": 21,
   "id": "11822e90",
   "metadata": {},
   "outputs": [
    {
     "name": "stdout",
     "output_type": "stream",
     "text": [
      "Pooled estimate of std deviation=4.713203338949605\n"
     ]
    }
   ],
   "source": [
    "fish_oil_dof = reg_oil_dof = len(df_ex0213) - 1\n",
    "estimated_pooled_sd = math.sqrt(((fish_oil_dof * (df_ex0213.std()[\"Fish oil diet\"])**2) + (reg_oil_dof * (df_ex0213.std()[\"Regular oil diet\"])**2)) / (fish_oil_dof + reg_oil_dof))\n",
    "print(f\"Pooled estimate of std deviation={estimated_pooled_sd}\")"
   ]
  },
  {
   "cell_type": "markdown",
   "id": "1716432d",
   "metadata": {},
   "source": [
    "###### (c) Compute SE.Y 2 ! Y 1/ using the formula in Section 2.3.2."
   ]
  },
  {
   "cell_type": "code",
   "execution_count": 22,
   "id": "82ca3b5b",
   "metadata": {},
   "outputs": [
    {
     "name": "stdout",
     "output_type": "stream",
     "text": [
      "Standard error of difference=2.519313155506914\n"
     ]
    }
   ],
   "source": [
    "SE_diff = estimated_pooled_sd * math.sqrt((1/len(df_ex0213)) + (1/len(df_ex0213)))\n",
    "print(f\"Standard error of difference={SE_diff}\")"
   ]
  },
  {
   "cell_type": "markdown",
   "id": "40a6cc7e",
   "metadata": {},
   "source": [
    "###### (d) What are the degrees of freedom associated with the pooled estimate of standard deviation? What is the 97.5th percentile of the t-distribution with this many degrees of freedom?"
   ]
  },
  {
   "cell_type": "code",
   "execution_count": 23,
   "id": "c2817dd4",
   "metadata": {},
   "outputs": [
    {
     "name": "stdout",
     "output_type": "stream",
     "text": [
      "Degrees of freedom=12\n"
     ]
    }
   ],
   "source": [
    "dof = len(df_ex0213[\"Fish oil diet\"]) + len(df_ex0213[\"Regular oil diet\"]) - 2\n",
    "print(f\"Degrees of freedom={dof}\")"
   ]
  },
  {
   "cell_type": "code",
   "execution_count": 24,
   "id": "17e353ba",
   "metadata": {},
   "outputs": [
    {
     "name": "stdout",
     "output_type": "stream",
     "text": [
      "97.5th percentile of the t-distribution with 12 degrees of freedom = 2.1788128296634177\n"
     ]
    }
   ],
   "source": [
    "# Calculate the 97.5th percentile of the t-distribution with 12 degrees of freedom\n",
    "t_value = t.ppf(0.975, df=12)\n",
    "\n",
    "print(f\"97.5th percentile of the t-distribution with 12 degrees of freedom = {t_value}\")"
   ]
  },
  {
   "cell_type": "markdown",
   "id": "98272457",
   "metadata": {},
   "source": [
    "###### (e) Construct a 95% confidence interval for !2 ! !1 using the formula in Section 2.3.3."
   ]
  },
  {
   "cell_type": "code",
   "execution_count": 25,
   "id": "83b3e73a",
   "metadata": {},
   "outputs": [
    {
     "data": {
      "text/plain": [
       "-7.7142857142857135"
      ]
     },
     "execution_count": 25,
     "metadata": {},
     "output_type": "execute_result"
    }
   ],
   "source": [
    "mean = df_ex0213.mean()\n",
    "combined_mean = mean[\"Regular oil diet\"] - mean[\"Fish oil diet\"]\n",
    "combined_mean"
   ]
  },
  {
   "cell_type": "code",
   "execution_count": 26,
   "id": "5b389e9d",
   "metadata": {},
   "outputs": [
    {
     "data": {
      "text/plain": [
       "2.1788128296634177"
      ]
     },
     "execution_count": 26,
     "metadata": {},
     "output_type": "execute_result"
    }
   ],
   "source": [
    "# Calculate the 95th percentile of the t-distribution with 12 degrees of freedom\n",
    "t_value_975 = t.ppf(0.975, df=12)\n",
    "t_value_975"
   ]
  },
  {
   "cell_type": "code",
   "execution_count": 27,
   "id": "4798c4fd",
   "metadata": {},
   "outputs": [
    {
     "data": {
      "text/plain": [
       "5.489111825158293"
      ]
     },
     "execution_count": 27,
     "metadata": {},
     "output_type": "execute_result"
    }
   ],
   "source": [
    "half_width = SE_diff * t_value_975\n",
    "half_width"
   ]
  },
  {
   "cell_type": "code",
   "execution_count": 28,
   "id": "73d21e70",
   "metadata": {},
   "outputs": [
    {
     "name": "stdout",
     "output_type": "stream",
     "text": [
      "95% Confidence Interval: (-13.203397539444007, -2.2251738891274204)\n"
     ]
    }
   ],
   "source": [
    "# Calculate the lower and upper bounds of the confidence interval\n",
    "lower_bound = combined_mean - half_width\n",
    "upper_bound = combined_mean + half_width\n",
    "\n",
    "# Print the confidence interval\n",
    "print(f'95% Confidence Interval: ({lower_bound}, {upper_bound})')\n"
   ]
  },
  {
   "cell_type": "markdown",
   "id": "0fd77d4f",
   "metadata": {},
   "source": [
    "###### (f) Compute the t -statistic for testing equality as shown in Section 2.3.5."
   ]
  },
  {
   "cell_type": "code",
   "execution_count": 29,
   "id": "c24e7e7a",
   "metadata": {},
   "outputs": [
    {
     "name": "stdout",
     "output_type": "stream",
     "text": [
      "t-statistic = -3.0620590764682105\n"
     ]
    }
   ],
   "source": [
    "hypothesis_value = 0\n",
    "t_statistic = (combined_mean - hypothesis_value) / SE_diff\n",
    "print(f\"t-statistic = {t_statistic}\")"
   ]
  },
  {
   "cell_type": "markdown",
   "id": "8be3e787",
   "metadata": {},
   "source": [
    "###### (g) Find the one-sided p-value (as evidence that the fish oil diet resulted in greater reduction of blood pressure) by comparing the t -statistic in (f) to the percentiles of the appropriate t-distribution (by reading the appropriate percentile from a computer program or calculator)."
   ]
  },
  {
   "cell_type": "code",
   "execution_count": 30,
   "id": "e2f9e0c2",
   "metadata": {},
   "outputs": [
    {
     "name": "stdout",
     "output_type": "stream",
     "text": [
      "One-sided p-value: 0.004930620073981201\n"
     ]
    }
   ],
   "source": [
    "# Calculate the proportion of t-ratios that are less than the t-statistic\n",
    "p_value_one_sided = t.cdf(t_statistic, 12)\n",
    "\n",
    "print(f\"One-sided p-value: {p_value_one_sided}\")"
   ]
  },
  {
   "cell_type": "markdown",
   "id": "93c908e4",
   "metadata": {},
   "source": [
    "### Chapter 2 Ex 19\n",
    "\n",
    "##### Fish Oil and Blood Pressure.\n",
    "Reconsider the fish oil and blood pressure data of Chapter 1,\n",
    "Exercise 12. Since the measurements are the reductions in blood pressure for each man, it is of interest to know whether the mean reduction is zero for each group."
   ]
  },
  {
   "cell_type": "markdown",
   "id": "b2b6e4c2",
   "metadata": {},
   "source": [
    "###### (a) Compute the average and the sample standard deviation"
   ]
  },
  {
   "cell_type": "code",
   "execution_count": 31,
   "id": "ab49db26",
   "metadata": {},
   "outputs": [],
   "source": [
    "df_ex0219 = pd.DataFrame({'Fish oil diet': [8,12,10,14,2,0,0], 'Regular oil diet': [-6, 0,1,2,-3,-4,2]})"
   ]
  },
  {
   "cell_type": "code",
   "execution_count": 32,
   "id": "dd81b8c6",
   "metadata": {},
   "outputs": [
    {
     "data": {
      "text/html": [
       "<div>\n",
       "<style scoped>\n",
       "    .dataframe tbody tr th:only-of-type {\n",
       "        vertical-align: middle;\n",
       "    }\n",
       "\n",
       "    .dataframe tbody tr th {\n",
       "        vertical-align: top;\n",
       "    }\n",
       "\n",
       "    .dataframe thead th {\n",
       "        text-align: right;\n",
       "    }\n",
       "</style>\n",
       "<table border=\"1\" class=\"dataframe\">\n",
       "  <thead>\n",
       "    <tr style=\"text-align: right;\">\n",
       "      <th></th>\n",
       "      <th>Fish oil diet</th>\n",
       "      <th>Regular oil diet</th>\n",
       "    </tr>\n",
       "  </thead>\n",
       "  <tbody>\n",
       "    <tr>\n",
       "      <th>count</th>\n",
       "      <td>7.000000</td>\n",
       "      <td>7.000000</td>\n",
       "    </tr>\n",
       "    <tr>\n",
       "      <th>mean</th>\n",
       "      <td>6.571429</td>\n",
       "      <td>-1.142857</td>\n",
       "    </tr>\n",
       "    <tr>\n",
       "      <th>std</th>\n",
       "      <td>5.855400</td>\n",
       "      <td>3.184785</td>\n",
       "    </tr>\n",
       "    <tr>\n",
       "      <th>min</th>\n",
       "      <td>0.000000</td>\n",
       "      <td>-6.000000</td>\n",
       "    </tr>\n",
       "    <tr>\n",
       "      <th>25%</th>\n",
       "      <td>1.000000</td>\n",
       "      <td>-3.500000</td>\n",
       "    </tr>\n",
       "    <tr>\n",
       "      <th>50%</th>\n",
       "      <td>8.000000</td>\n",
       "      <td>0.000000</td>\n",
       "    </tr>\n",
       "    <tr>\n",
       "      <th>75%</th>\n",
       "      <td>11.000000</td>\n",
       "      <td>1.500000</td>\n",
       "    </tr>\n",
       "    <tr>\n",
       "      <th>max</th>\n",
       "      <td>14.000000</td>\n",
       "      <td>2.000000</td>\n",
       "    </tr>\n",
       "  </tbody>\n",
       "</table>\n",
       "</div>"
      ],
      "text/plain": [
       "       Fish oil diet  Regular oil diet\n",
       "count       7.000000          7.000000\n",
       "mean        6.571429         -1.142857\n",
       "std         5.855400          3.184785\n",
       "min         0.000000         -6.000000\n",
       "25%         1.000000         -3.500000\n",
       "50%         8.000000          0.000000\n",
       "75%        11.000000          1.500000\n",
       "max        14.000000          2.000000"
      ]
     },
     "execution_count": 32,
     "metadata": {},
     "output_type": "execute_result"
    }
   ],
   "source": [
    "df_ex0219.describe()"
   ]
  },
  {
   "cell_type": "markdown",
   "id": "aa4664cb",
   "metadata": {},
   "source": [
    "###### (b) Compute the standard error for the average from this group"
   ]
  },
  {
   "cell_type": "code",
   "execution_count": 33,
   "id": "141681c2",
   "metadata": {},
   "outputs": [
    {
     "name": "stdout",
     "output_type": "stream",
     "text": [
      "Standard error = 1.2037356818823368\n"
     ]
    }
   ],
   "source": [
    "se = df_ex0219.std()[\"Regular oil diet\"] / math.sqrt(7)\n",
    "print(f\"Standard error = {se}\")"
   ]
  },
  {
   "cell_type": "markdown",
   "id": "8f84a843",
   "metadata": {},
   "source": [
    "###### (c) Construct a 95% confidence interval"
   ]
  },
  {
   "cell_type": "code",
   "execution_count": 34,
   "id": "42dbc1a2",
   "metadata": {},
   "outputs": [],
   "source": [
    "mean_reg = df_ex0219.mean()[\"Regular oil diet\"]\n",
    "dof_reg = len(df_ex0219) - 1\n",
    "\n",
    "t6 = t.ppf(0.975, df=6)"
   ]
  },
  {
   "cell_type": "code",
   "execution_count": 35,
   "id": "adb61475",
   "metadata": {},
   "outputs": [
    {
     "name": "stdout",
     "output_type": "stream",
     "text": [
      "Lower bound = -4.088292245668366 :: Upper bound = 1.80257795995408\n"
     ]
    }
   ],
   "source": [
    "lower_bound = mean_reg - (t6 * se)\n",
    "upper_bound = mean_reg + (t6 * se)\n",
    "\n",
    "print(f\"Lower bound = {lower_bound} :: Upper bound = {upper_bound}\")"
   ]
  },
  {
   "cell_type": "markdown",
   "id": "d550f64e",
   "metadata": {},
   "source": [
    "###### (d) For the hypothesis  == zero, construct the t -statistic. Find the two-sided p-value as the proportion of values from a td -distribution farther from 0 than this value."
   ]
  },
  {
   "cell_type": "code",
   "execution_count": 36,
   "id": "aaa45850",
   "metadata": {},
   "outputs": [
    {
     "name": "stdout",
     "output_type": "stream",
     "text": [
      "t-statistic = -0.9494253265550827\n"
     ]
    }
   ],
   "source": [
    "hypothesis = 0\n",
    "t_statistic_reg = (mean_reg - hypothesis) / se\n",
    "print(f\"t-statistic = {t_statistic_reg}\")"
   ]
  },
  {
   "cell_type": "code",
   "execution_count": 37,
   "id": "5f779dee",
   "metadata": {},
   "outputs": [
    {
     "name": "stdout",
     "output_type": "stream",
     "text": [
      "p-value = 0.361134292543822\n"
     ]
    }
   ],
   "source": [
    "p_value = t.sf(np.abs(t_statistic_reg), 12) * 2  # two-sided pvalue = Prob(abs(t)>tt)\n",
    "\n",
    "print(f\"p-value = {p_value}\")"
   ]
  },
  {
   "cell_type": "markdown",
   "id": "1109dba0",
   "metadata": {},
   "source": [
    "### Chapter 2 Ex 21\n",
    "\n",
    "##### Bumpus Natural Selection Data\n",
    "<p>In 1899, biologist Hermon Bumpus presented as evidence of natural selection a comparison of numerical characteristics of moribund house sparrows that were collected after an uncommonly severe winter storm and which had either perished or survived as a result of their injuries. Display 2.15 shows the length of the humerus (arm bone) in inches for 59 of these sparrows, grouped according to whether they survived or perished. Analyze these data to summarize the evidence that the distribution of humerus lengths differs in the two populations.</p>\n",
    "\n",
    "<p>Write a brief paragraph of statistical conclusion, using the ones in Section 2.1 as a guide, including a graphical display, a conclusion about the degree of evidence of a difference, and a conclusion about the size of the difference in distributions.</p>"
   ]
  },
  {
   "cell_type": "code",
   "execution_count": 38,
   "id": "5164282d",
   "metadata": {},
   "outputs": [
    {
     "data": {
      "text/html": [
       "<div>\n",
       "<style scoped>\n",
       "    .dataframe tbody tr th:only-of-type {\n",
       "        vertical-align: middle;\n",
       "    }\n",
       "\n",
       "    .dataframe tbody tr th {\n",
       "        vertical-align: top;\n",
       "    }\n",
       "\n",
       "    .dataframe thead th {\n",
       "        text-align: right;\n",
       "    }\n",
       "</style>\n",
       "<table border=\"1\" class=\"dataframe\">\n",
       "  <thead>\n",
       "    <tr style=\"text-align: right;\">\n",
       "      <th></th>\n",
       "      <th>Unnamed: 0</th>\n",
       "      <th>Humerus</th>\n",
       "      <th>Status</th>\n",
       "    </tr>\n",
       "  </thead>\n",
       "  <tbody>\n",
       "    <tr>\n",
       "      <th>0</th>\n",
       "      <td>1</td>\n",
       "      <td>0.687</td>\n",
       "      <td>Survived</td>\n",
       "    </tr>\n",
       "    <tr>\n",
       "      <th>1</th>\n",
       "      <td>2</td>\n",
       "      <td>0.703</td>\n",
       "      <td>Survived</td>\n",
       "    </tr>\n",
       "    <tr>\n",
       "      <th>2</th>\n",
       "      <td>3</td>\n",
       "      <td>0.709</td>\n",
       "      <td>Survived</td>\n",
       "    </tr>\n",
       "    <tr>\n",
       "      <th>3</th>\n",
       "      <td>4</td>\n",
       "      <td>0.715</td>\n",
       "      <td>Survived</td>\n",
       "    </tr>\n",
       "    <tr>\n",
       "      <th>4</th>\n",
       "      <td>5</td>\n",
       "      <td>0.728</td>\n",
       "      <td>Survived</td>\n",
       "    </tr>\n",
       "  </tbody>\n",
       "</table>\n",
       "</div>"
      ],
      "text/plain": [
       "   Unnamed: 0  Humerus    Status\n",
       "0           1    0.687  Survived\n",
       "1           2    0.703  Survived\n",
       "2           3    0.709  Survived\n",
       "3           4    0.715  Survived\n",
       "4           5    0.728  Survived"
      ]
     },
     "execution_count": 38,
     "metadata": {},
     "output_type": "execute_result"
    }
   ],
   "source": [
    "df_ex0221 = pd.read_csv(\"./Datasets/ex0221.csv\")\n",
    "df_ex0221.head()"
   ]
  },
  {
   "cell_type": "code",
   "execution_count": 39,
   "id": "145281b2",
   "metadata": {},
   "outputs": [
    {
     "data": {
      "image/png": "[encoded data removed]",
      "text/plain": [
       "<Figure size 640x480 with 1 Axes>"
      ]
     },
     "metadata": {},
     "output_type": "display_data"
    }
   ],
   "source": [
    "sns.boxplot(x='Status', y='Humerus', data=df_ex0221)\n",
    "sns.swarmplot(x='Status', y='Humerus', data=df_ex0221, color='black')\n",
    "plt.show()"
   ]
  },
  {
   "cell_type": "markdown",
   "id": "dcf618c9",
   "metadata": {},
   "source": [
    "Based on the graph above, it appears that the distribution of humerus lengths for sparrows that survived is slightly skewed to the right, while the distribution for sparrows that perished is slightly skewed to the left. The degree of evidence for a difference in the distribution of humerus lengths between the two populations is strong, as the two distributions do not overlap significantly. The size of the difference in the distributions is moderate, as the means of the two distributions are not far apart but there is some overlap in the ranges of the two distributions."
   ]
  },
  {
   "cell_type": "markdown",
   "id": "68dc11c0",
   "metadata": {},
   "source": [
    "### Chapter 2 Ex 22\n",
    "\n",
    "##### Male and Female Intelligence"
   ]
  },
  {
   "cell_type": "code",
   "execution_count": 45,
   "id": "817768bd",
   "metadata": {},
   "outputs": [
    {
     "data": {
      "text/html": [
       "<div>\n",
       "<style scoped>\n",
       "    .dataframe tbody tr th:only-of-type {\n",
       "        vertical-align: middle;\n",
       "    }\n",
       "\n",
       "    .dataframe tbody tr th {\n",
       "        vertical-align: top;\n",
       "    }\n",
       "\n",
       "    .dataframe thead th {\n",
       "        text-align: right;\n",
       "    }\n",
       "</style>\n",
       "<table border=\"1\" class=\"dataframe\">\n",
       "  <thead>\n",
       "    <tr style=\"text-align: right;\">\n",
       "      <th></th>\n",
       "      <th>Unnamed: 0</th>\n",
       "      <th>Gender</th>\n",
       "      <th>Arith</th>\n",
       "      <th>Word</th>\n",
       "      <th>Parag</th>\n",
       "      <th>Math</th>\n",
       "      <th>AFQT</th>\n",
       "    </tr>\n",
       "  </thead>\n",
       "  <tbody>\n",
       "    <tr>\n",
       "      <th>0</th>\n",
       "      <td>1</td>\n",
       "      <td>male</td>\n",
       "      <td>19</td>\n",
       "      <td>27</td>\n",
       "      <td>14</td>\n",
       "      <td>14</td>\n",
       "      <td>70.3</td>\n",
       "    </tr>\n",
       "    <tr>\n",
       "      <th>1</th>\n",
       "      <td>2</td>\n",
       "      <td>female</td>\n",
       "      <td>23</td>\n",
       "      <td>34</td>\n",
       "      <td>11</td>\n",
       "      <td>20</td>\n",
       "      <td>60.4</td>\n",
       "    </tr>\n",
       "    <tr>\n",
       "      <th>2</th>\n",
       "      <td>3</td>\n",
       "      <td>male</td>\n",
       "      <td>30</td>\n",
       "      <td>35</td>\n",
       "      <td>14</td>\n",
       "      <td>25</td>\n",
       "      <td>98.3</td>\n",
       "    </tr>\n",
       "    <tr>\n",
       "      <th>3</th>\n",
       "      <td>4</td>\n",
       "      <td>female</td>\n",
       "      <td>30</td>\n",
       "      <td>35</td>\n",
       "      <td>13</td>\n",
       "      <td>21</td>\n",
       "      <td>84.7</td>\n",
       "    </tr>\n",
       "    <tr>\n",
       "      <th>4</th>\n",
       "      <td>5</td>\n",
       "      <td>female</td>\n",
       "      <td>13</td>\n",
       "      <td>30</td>\n",
       "      <td>11</td>\n",
       "      <td>12</td>\n",
       "      <td>44.5</td>\n",
       "    </tr>\n",
       "  </tbody>\n",
       "</table>\n",
       "</div>"
      ],
      "text/plain": [
       "   Unnamed: 0  Gender  Arith  Word  Parag  Math  AFQT\n",
       "0           1    male     19    27     14    14  70.3\n",
       "1           2  female     23    34     11    20  60.4\n",
       "2           3    male     30    35     14    25  98.3\n",
       "3           4  female     30    35     13    21  84.7\n",
       "4           5  female     13    30     11    12  44.5"
      ]
     },
     "execution_count": 45,
     "metadata": {},
     "output_type": "execute_result"
    }
   ],
   "source": [
    "df_ex0222 = pd.read_csv(\"./Datasets/ex0222.csv\")\n",
    "df_ex0222.head()"
   ]
  },
  {
   "cell_type": "code",
   "execution_count": 46,
   "id": "28c8bd69",
   "metadata": {},
   "outputs": [
    {
     "data": {
      "image/png": "[encoded data removed]",
      "text/plain": [
       "<Figure size 640x480 with 1 Axes>"
      ]
     },
     "metadata": {},
     "output_type": "display_data"
    }
   ],
   "source": [
    "plt.hist(df_ex0222[df_ex0222[\"Gender\"] == \"male\"][\"AFQT\"], bins=20, alpha=0.5, label=\"Male\")\n",
    "plt.hist(df_ex0222[df_ex0222[\"Gender\"] == \"female\"][\"AFQT\"], bins=20, alpha=0.5, label=\"Female\")\n",
    "plt.legend(loc=\"upper right\")\n",
    "plt.show()"
   ]
  },
  {
   "cell_type": "markdown",
   "id": "2649a659",
   "metadata": {},
   "source": [
    "From the histograms, we can see that the distribution of AFQT scores for males is slightly skewed to the right, while the distribution for females is more symmetrical.\n",
    "\n",
    "Now, let's calculate the mean and standard deviation for the AFQT scores of males and females:"
   ]
  },
  {
   "cell_type": "code",
   "execution_count": 47,
   "id": "b1d6f8dc",
   "metadata": {},
   "outputs": [
    {
     "name": "stdout",
     "output_type": "stream",
     "text": [
      "Male mean: 55.44624808575803\n",
      "Male std: 28.566773113920963\n",
      "Female mean: 53.4057902973396\n",
      "Female std: 26.885000856730606\n"
     ]
    }
   ],
   "source": [
    "male_mean = df_ex0222[df_ex0222[\"Gender\"] == \"male\"][\"AFQT\"].mean()\n",
    "male_std = df_ex0222[df_ex0222[\"Gender\"] == \"male\"][\"AFQT\"].std()\n",
    "female_mean = df_ex0222[df_ex0222[\"Gender\"] == \"female\"][\"AFQT\"].mean()\n",
    "female_std = df_ex0222[df_ex0222[\"Gender\"] == \"female\"][\"AFQT\"].std()\n",
    "\n",
    "print(\"Male mean:\", male_mean)\n",
    "print(\"Male std:\", male_std)\n",
    "print(\"Female mean:\", female_mean)\n",
    "print(\"Female std:\", female_std)\n"
   ]
  },
  {
   "cell_type": "markdown",
   "id": "46a4691d",
   "metadata": {},
   "source": [
    "From the summary statistics, we can see that the mean AFQT score for males is slightly higher than for females, but the standard deviations for both groups are similar.\n",
    "\n",
    "To test whether the difference in means is statistically significant, we can perform a two-sample t-test."
   ]
  },
  {
   "cell_type": "code",
   "execution_count": 48,
   "id": "75735d65",
   "metadata": {},
   "outputs": [
    {
     "name": "stdout",
     "output_type": "stream",
     "text": [
      "t-statistic: 1.8689196234542318\n",
      "p-value: 0.06174713522319643\n"
     ]
    }
   ],
   "source": [
    "t_stat, p_value = ttest_ind(df_ex0222[df_ex0222[\"Gender\"] == \"male\"][\"AFQT\"], df_ex0222[df_ex0222[\"Gender\"] == \"female\"][\"AFQT\"])\n",
    "print(\"t-statistic:\", t_stat)\n",
    "print(\"p-value:\", p_value)\n"
   ]
  },
  {
   "cell_type": "markdown",
   "id": "7576e75d",
   "metadata": {},
   "source": [
    "We can also calculate 95% confidence intervals for the mean AFQT scores of males and females to further assess the magnitude of the difference between the two groups."
   ]
  },
  {
   "cell_type": "code",
   "execution_count": 53,
   "id": "5fb244aa",
   "metadata": {},
   "outputs": [
    {
     "name": "stdout",
     "output_type": "stream",
     "text": [
      "Male confidence interval: (53.48446461036282, 57.40803156115324) :: Female confidence interval: (51.443966889889836, 55.36761370478936)\n"
     ]
    }
   ],
   "source": [
    "male_n = len(df_ex0222[df_ex0222[\"Gender\"] == \"male\"])\n",
    "female_n = len(df_ex0222[df_ex0222[\"Gender\"] == \"female\"])\n",
    "male_std_err = male_std / (male_n ** 0.5)\n",
    "female_std_err = female_std / (female_n ** 0.5)\n",
    "\n",
    "male_ci = t.interval(0.95, male_n - 1, loc=male_mean)\n",
    "female_ci = t.interval(0.95, female_n - 1, loc=female_mean)\n",
    "print(f\"Male confidence interval: {male_ci} :: Female confidence interval: {female_ci}\")"
   ]
  },
  {
   "cell_type": "markdown",
   "id": "16c015f7",
   "metadata": {},
   "source": [
    "### Chapter 2 Ex 23\n",
    "\n",
    "##### Speed Limits and Traffic Fatalities"
   ]
  },
  {
   "cell_type": "code",
   "execution_count": 82,
   "id": "b2a5ed19",
   "metadata": {},
   "outputs": [
    {
     "data": {
      "text/html": [
       "<div>\n",
       "<style scoped>\n",
       "    .dataframe tbody tr th:only-of-type {\n",
       "        vertical-align: middle;\n",
       "    }\n",
       "\n",
       "    .dataframe tbody tr th {\n",
       "        vertical-align: top;\n",
       "    }\n",
       "\n",
       "    .dataframe thead th {\n",
       "        text-align: right;\n",
       "    }\n",
       "</style>\n",
       "<table border=\"1\" class=\"dataframe\">\n",
       "  <thead>\n",
       "    <tr style=\"text-align: right;\">\n",
       "      <th></th>\n",
       "      <th>Unnamed: 0</th>\n",
       "      <th>State</th>\n",
       "      <th>Fatalities1995</th>\n",
       "      <th>Fatalities1996</th>\n",
       "      <th>PctChange</th>\n",
       "      <th>SpeedLimit</th>\n",
       "    </tr>\n",
       "  </thead>\n",
       "  <tbody>\n",
       "    <tr>\n",
       "      <th>0</th>\n",
       "      <td>1</td>\n",
       "      <td>Alabama</td>\n",
       "      <td>1114</td>\n",
       "      <td>1146</td>\n",
       "      <td>2.87</td>\n",
       "      <td>Inc</td>\n",
       "    </tr>\n",
       "    <tr>\n",
       "      <th>1</th>\n",
       "      <td>2</td>\n",
       "      <td>Alaska</td>\n",
       "      <td>87</td>\n",
       "      <td>81</td>\n",
       "      <td>-6.90</td>\n",
       "      <td>Ret</td>\n",
       "    </tr>\n",
       "    <tr>\n",
       "      <th>2</th>\n",
       "      <td>3</td>\n",
       "      <td>Arizona</td>\n",
       "      <td>1035</td>\n",
       "      <td>994</td>\n",
       "      <td>-3.96</td>\n",
       "      <td>Inc</td>\n",
       "    </tr>\n",
       "    <tr>\n",
       "      <th>3</th>\n",
       "      <td>4</td>\n",
       "      <td>Arkansas</td>\n",
       "      <td>631</td>\n",
       "      <td>615</td>\n",
       "      <td>-2.54</td>\n",
       "      <td>Inc</td>\n",
       "    </tr>\n",
       "    <tr>\n",
       "      <th>4</th>\n",
       "      <td>5</td>\n",
       "      <td>California</td>\n",
       "      <td>4192</td>\n",
       "      <td>3989</td>\n",
       "      <td>-4.84</td>\n",
       "      <td>Inc</td>\n",
       "    </tr>\n",
       "  </tbody>\n",
       "</table>\n",
       "</div>"
      ],
      "text/plain": [
       "   Unnamed: 0       State  Fatalities1995  Fatalities1996  PctChange  \\\n",
       "0           1     Alabama            1114            1146       2.87   \n",
       "1           2      Alaska              87              81      -6.90   \n",
       "2           3     Arizona            1035             994      -3.96   \n",
       "3           4    Arkansas             631             615      -2.54   \n",
       "4           5  California            4192            3989      -4.84   \n",
       "\n",
       "  SpeedLimit  \n",
       "0        Inc  \n",
       "1        Ret  \n",
       "2        Inc  \n",
       "3        Inc  \n",
       "4        Inc  "
      ]
     },
     "execution_count": 82,
     "metadata": {},
     "output_type": "execute_result"
    }
   ],
   "source": [
    "df_ex0223 = pd.read_csv('./Datasets/ex0223.csv')\n",
    "df_ex0223.head()"
   ]
  },
  {
   "cell_type": "code",
   "execution_count": 86,
   "id": "69061e09",
   "metadata": {},
   "outputs": [
    {
     "data": {
      "text/html": [
       "<div>\n",
       "<style scoped>\n",
       "    .dataframe tbody tr th:only-of-type {\n",
       "        vertical-align: middle;\n",
       "    }\n",
       "\n",
       "    .dataframe tbody tr th {\n",
       "        vertical-align: top;\n",
       "    }\n",
       "\n",
       "    .dataframe thead th {\n",
       "        text-align: right;\n",
       "    }\n",
       "</style>\n",
       "<table border=\"1\" class=\"dataframe\">\n",
       "  <thead>\n",
       "    <tr style=\"text-align: right;\">\n",
       "      <th></th>\n",
       "      <th>Unnamed: 0</th>\n",
       "      <th>State</th>\n",
       "      <th>Fatalities1995</th>\n",
       "      <th>Fatalities1996</th>\n",
       "      <th>PctChange</th>\n",
       "      <th>SpeedLimit</th>\n",
       "      <th>SpeedLimitChange</th>\n",
       "    </tr>\n",
       "  </thead>\n",
       "  <tbody>\n",
       "    <tr>\n",
       "      <th>0</th>\n",
       "      <td>1</td>\n",
       "      <td>Alabama</td>\n",
       "      <td>1114</td>\n",
       "      <td>1146</td>\n",
       "      <td>2.87</td>\n",
       "      <td>Inc</td>\n",
       "      <td>1</td>\n",
       "    </tr>\n",
       "    <tr>\n",
       "      <th>1</th>\n",
       "      <td>2</td>\n",
       "      <td>Alaska</td>\n",
       "      <td>87</td>\n",
       "      <td>81</td>\n",
       "      <td>-6.90</td>\n",
       "      <td>Ret</td>\n",
       "      <td>0</td>\n",
       "    </tr>\n",
       "    <tr>\n",
       "      <th>2</th>\n",
       "      <td>3</td>\n",
       "      <td>Arizona</td>\n",
       "      <td>1035</td>\n",
       "      <td>994</td>\n",
       "      <td>-3.96</td>\n",
       "      <td>Inc</td>\n",
       "      <td>1</td>\n",
       "    </tr>\n",
       "    <tr>\n",
       "      <th>3</th>\n",
       "      <td>4</td>\n",
       "      <td>Arkansas</td>\n",
       "      <td>631</td>\n",
       "      <td>615</td>\n",
       "      <td>-2.54</td>\n",
       "      <td>Inc</td>\n",
       "      <td>1</td>\n",
       "    </tr>\n",
       "    <tr>\n",
       "      <th>4</th>\n",
       "      <td>5</td>\n",
       "      <td>California</td>\n",
       "      <td>4192</td>\n",
       "      <td>3989</td>\n",
       "      <td>-4.84</td>\n",
       "      <td>Inc</td>\n",
       "      <td>1</td>\n",
       "    </tr>\n",
       "  </tbody>\n",
       "</table>\n",
       "</div>"
      ],
      "text/plain": [
       "   Unnamed: 0       State  Fatalities1995  Fatalities1996  PctChange  \\\n",
       "0           1     Alabama            1114            1146       2.87   \n",
       "1           2      Alaska              87              81      -6.90   \n",
       "2           3     Arizona            1035             994      -3.96   \n",
       "3           4    Arkansas             631             615      -2.54   \n",
       "4           5  California            4192            3989      -4.84   \n",
       "\n",
       "  SpeedLimit  SpeedLimitChange  \n",
       "0        Inc                 1  \n",
       "1        Ret                 0  \n",
       "2        Inc                 1  \n",
       "3        Inc                 1  \n",
       "4        Inc                 1  "
      ]
     },
     "execution_count": 86,
     "metadata": {},
     "output_type": "execute_result"
    }
   ],
   "source": [
    "df_ex0223[\"SpeedLimitChange\"] = df_ex0223[\"SpeedLimit\"].apply(lambda x: 1 if x == 'Inc' else 0)\n",
    "df_ex0223.head()"
   ]
  },
  {
   "cell_type": "code",
   "execution_count": 87,
   "id": "71ace653",
   "metadata": {},
   "outputs": [
    {
     "name": "stdout",
     "output_type": "stream",
     "text": [
      "SpeedLimitChange\n",
      "0    0.099474\n",
      "1    0.493750\n",
      "Name: PctChange, dtype: float64\n"
     ]
    },
    {
     "data": {
      "image/png": "[encoded data removed]",
      "text/plain": [
       "<Figure size 640x480 with 1 Axes>"
      ]
     },
     "metadata": {},
     "output_type": "display_data"
    }
   ],
   "source": [
    "grouped_df = df_ex0223.groupby(\"SpeedLimitChange\")[\"PctChange\"].mean()\n",
    "\n",
    "# Print the results\n",
    "print(grouped_df)\n",
    "\n",
    "# Plot the results\n",
    "grouped_df.plot.bar()\n",
    "plt.show()"
   ]
  },
  {
   "cell_type": "code",
   "execution_count": 92,
   "id": "a718409b",
   "metadata": {},
   "outputs": [
    {
     "data": {
      "image/png": "[encoded data removed]",
      "text/plain": [
       "<Figure size 640x480 with 1 Axes>"
      ]
     },
     "metadata": {},
     "output_type": "display_data"
    }
   ],
   "source": [
    "plt.hist(df_ex0223[df_ex0223[\"SpeedLimitChange\"] == 1]['PctChange'], alpha=0.5, label='Increased')\n",
    "plt.hist(df_ex0223[df_ex0223[\"SpeedLimitChange\"] == 0]['PctChange'], alpha=0.5, label='Retained')\n",
    "plt.legend()\n",
    "plt.show()"
   ]
  },
  {
   "cell_type": "code",
   "execution_count": 90,
   "id": "64c3ac3a",
   "metadata": {},
   "outputs": [
    {
     "name": "stdout",
     "output_type": "stream",
     "text": [
      "t-statistic: 0.165, p-value: 0.870\n"
     ]
    }
   ],
   "source": [
    "t_stat, p_val = ttest_ind(df_ex0223[df_ex0223[\"SpeedLimitChange\"] == 1]['PctChange'], df_ex0223[df_ex0223[\"SpeedLimitChange\"] == 0]['PctChange'])\n",
    "print(f't-statistic: {t_stat:.3f}, p-value: {p_val:.3f}')\n"
   ]
  },
  {
   "cell_type": "code",
   "execution_count": 93,
   "id": "7a8058fe",
   "metadata": {},
   "outputs": [
    {
     "name": "stdout",
     "output_type": "stream",
     "text": [
      "Mean percentage change in states that increased speed limits: 0.49\n",
      "Mean percentage change in states that retained speed limits: 0.10\n",
      "Difference: 0.39\n"
     ]
    }
   ],
   "source": [
    "mean_inc = df_ex0223[df_ex0223[\"SpeedLimitChange\"] == 1]['PctChange'].mean()\n",
    "mean_dec = df_ex0223[df_ex0223[\"SpeedLimitChange\"] == 0]['PctChange'].mean()\n",
    "difference = mean_inc - mean_dec\n",
    "print(f'Mean percentage change in states that increased speed limits: {mean_inc:.2f}')\n",
    "print(f'Mean percentage change in states that retained speed limits: {mean_dec:.2f}')\n",
    "print(f'Difference: {difference:.2f}')\n"
   ]
  }
 ],
 "metadata": {
  "kernelspec": {
   "display_name": "Python 3 (ipykernel)",
   "language": "python",
   "name": "python3"
  },
  "language_info": {
   "codemirror_mode": {
    "name": "ipython",
    "version": 3
   },
   "file_extension": ".py",
   "mimetype": "text/x-python",
   "name": "python",
   "nbconvert_exporter": "python",
   "pygments_lexer": "ipython3",
   "version": "3.8.13"
  }
 },
 "nbformat": 4,
 "nbformat_minor": 5
}

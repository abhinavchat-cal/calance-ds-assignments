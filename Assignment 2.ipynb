{
 "cells": [
  {
   "cell_type": "markdown",
   "id": "ec3ab989",
   "metadata": {},
   "source": [
    "Assignment 2:\n",
    "    - Chapter 3 - Problem 20, 21, 24, 25, 26, 29 \n",
    "    - Chapter 4 - Problems 19, 21, 22, 26, 28"
   ]
  },
  {
   "cell_type": "code",
   "execution_count": 1,
   "id": "6c7b424e",
   "metadata": {},
   "outputs": [],
   "source": [
    "import math\n",
    "import pandas as pd\n",
    "import numpy as np\n",
    "from scipy.stats import t, ttest_ind, mannwhitneyu\n",
    "import matplotlib.pyplot as plt\n",
    "import seaborn as sns"
   ]
  },
  {
   "cell_type": "markdown",
   "id": "ad585191",
   "metadata": {},
   "source": [
    "### Chapter 3 Ex 20"
   ]
  },
  {
   "cell_type": "code",
   "execution_count": 2,
   "id": "8164fa3b",
   "metadata": {},
   "outputs": [],
   "source": [
    "df = pd.DataFrame({'College': ['A', 'B', 'C', 'D', 'E'], 'In-State': [1000,4000,5000,8000,40000], 'Out-of-State':[3000,8000,30000,32000,40000], 'Out/In Ratio': [3,2,6,4,1], 'Log(In-State)': [6.9078,8.2941,8.5172,8.9872,10.5966], 'Log(Out-of-State)': [8.0064,8.9872,10.3090,10.3735,10.5966] })"
   ]
  },
  {
   "cell_type": "code",
   "execution_count": 3,
   "id": "1eba40c0",
   "metadata": {},
   "outputs": [
    {
     "data": {
      "text/html": [
       "<div>\n",
       "<style scoped>\n",
       "    .dataframe tbody tr th:only-of-type {\n",
       "        vertical-align: middle;\n",
       "    }\n",
       "\n",
       "    .dataframe tbody tr th {\n",
       "        vertical-align: top;\n",
       "    }\n",
       "\n",
       "    .dataframe thead th {\n",
       "        text-align: right;\n",
       "    }\n",
       "</style>\n",
       "<table border=\"1\" class=\"dataframe\">\n",
       "  <thead>\n",
       "    <tr style=\"text-align: right;\">\n",
       "      <th></th>\n",
       "      <th>College</th>\n",
       "      <th>In-State</th>\n",
       "      <th>Out-of-State</th>\n",
       "      <th>Out/In Ratio</th>\n",
       "      <th>Log(In-State)</th>\n",
       "      <th>Log(Out-of-State)</th>\n",
       "    </tr>\n",
       "  </thead>\n",
       "  <tbody>\n",
       "    <tr>\n",
       "      <th>0</th>\n",
       "      <td>A</td>\n",
       "      <td>1000</td>\n",
       "      <td>3000</td>\n",
       "      <td>3</td>\n",
       "      <td>6.9078</td>\n",
       "      <td>8.0064</td>\n",
       "    </tr>\n",
       "    <tr>\n",
       "      <th>1</th>\n",
       "      <td>B</td>\n",
       "      <td>4000</td>\n",
       "      <td>8000</td>\n",
       "      <td>2</td>\n",
       "      <td>8.2941</td>\n",
       "      <td>8.9872</td>\n",
       "    </tr>\n",
       "    <tr>\n",
       "      <th>2</th>\n",
       "      <td>C</td>\n",
       "      <td>5000</td>\n",
       "      <td>30000</td>\n",
       "      <td>6</td>\n",
       "      <td>8.5172</td>\n",
       "      <td>10.3090</td>\n",
       "    </tr>\n",
       "    <tr>\n",
       "      <th>3</th>\n",
       "      <td>D</td>\n",
       "      <td>8000</td>\n",
       "      <td>32000</td>\n",
       "      <td>4</td>\n",
       "      <td>8.9872</td>\n",
       "      <td>10.3735</td>\n",
       "    </tr>\n",
       "    <tr>\n",
       "      <th>4</th>\n",
       "      <td>E</td>\n",
       "      <td>40000</td>\n",
       "      <td>40000</td>\n",
       "      <td>1</td>\n",
       "      <td>10.5966</td>\n",
       "      <td>10.5966</td>\n",
       "    </tr>\n",
       "  </tbody>\n",
       "</table>\n",
       "</div>"
      ],
      "text/plain": [
       "  College  In-State  Out-of-State  Out/In Ratio  Log(In-State)  \\\n",
       "0       A      1000          3000             3         6.9078   \n",
       "1       B      4000          8000             2         8.2941   \n",
       "2       C      5000         30000             6         8.5172   \n",
       "3       D      8000         32000             4         8.9872   \n",
       "4       E     40000         40000             1        10.5966   \n",
       "\n",
       "   Log(Out-of-State)  \n",
       "0             8.0064  \n",
       "1             8.9872  \n",
       "2            10.3090  \n",
       "3            10.3735  \n",
       "4            10.5966  "
      ]
     },
     "execution_count": 3,
     "metadata": {},
     "output_type": "execute_result"
    }
   ],
   "source": [
    "df.head()"
   ]
  },
  {
   "cell_type": "markdown",
   "id": "1e5509f9",
   "metadata": {},
   "source": [
    "#### (a)"
   ]
  },
  {
   "cell_type": "code",
   "execution_count": 4,
   "id": "c810b51b",
   "metadata": {},
   "outputs": [
    {
     "data": {
      "text/html": [
       "<div>\n",
       "<style scoped>\n",
       "    .dataframe tbody tr th:only-of-type {\n",
       "        vertical-align: middle;\n",
       "    }\n",
       "\n",
       "    .dataframe tbody tr th {\n",
       "        vertical-align: top;\n",
       "    }\n",
       "\n",
       "    .dataframe thead th {\n",
       "        text-align: right;\n",
       "    }\n",
       "</style>\n",
       "<table border=\"1\" class=\"dataframe\">\n",
       "  <thead>\n",
       "    <tr style=\"text-align: right;\">\n",
       "      <th></th>\n",
       "      <th>In-State</th>\n",
       "      <th>Out-of-State</th>\n",
       "      <th>Out/In Ratio</th>\n",
       "      <th>Log(In-State)</th>\n",
       "      <th>Log(Out-of-State)</th>\n",
       "    </tr>\n",
       "  </thead>\n",
       "  <tbody>\n",
       "    <tr>\n",
       "      <th>count</th>\n",
       "      <td>5.000000</td>\n",
       "      <td>5.000000</td>\n",
       "      <td>5.000000</td>\n",
       "      <td>5.000000</td>\n",
       "      <td>5.000000</td>\n",
       "    </tr>\n",
       "    <tr>\n",
       "      <th>mean</th>\n",
       "      <td>11600.000000</td>\n",
       "      <td>22600.000000</td>\n",
       "      <td>3.200000</td>\n",
       "      <td>8.660580</td>\n",
       "      <td>9.654540</td>\n",
       "    </tr>\n",
       "    <tr>\n",
       "      <th>std</th>\n",
       "      <td>16071.714283</td>\n",
       "      <td>16149.303391</td>\n",
       "      <td>1.923538</td>\n",
       "      <td>1.330597</td>\n",
       "      <td>1.117408</td>\n",
       "    </tr>\n",
       "    <tr>\n",
       "      <th>min</th>\n",
       "      <td>1000.000000</td>\n",
       "      <td>3000.000000</td>\n",
       "      <td>1.000000</td>\n",
       "      <td>6.907800</td>\n",
       "      <td>8.006400</td>\n",
       "    </tr>\n",
       "    <tr>\n",
       "      <th>25%</th>\n",
       "      <td>4000.000000</td>\n",
       "      <td>8000.000000</td>\n",
       "      <td>2.000000</td>\n",
       "      <td>8.294100</td>\n",
       "      <td>8.987200</td>\n",
       "    </tr>\n",
       "    <tr>\n",
       "      <th>50%</th>\n",
       "      <td>5000.000000</td>\n",
       "      <td>30000.000000</td>\n",
       "      <td>3.000000</td>\n",
       "      <td>8.517200</td>\n",
       "      <td>10.309000</td>\n",
       "    </tr>\n",
       "    <tr>\n",
       "      <th>75%</th>\n",
       "      <td>8000.000000</td>\n",
       "      <td>32000.000000</td>\n",
       "      <td>4.000000</td>\n",
       "      <td>8.987200</td>\n",
       "      <td>10.373500</td>\n",
       "    </tr>\n",
       "    <tr>\n",
       "      <th>max</th>\n",
       "      <td>40000.000000</td>\n",
       "      <td>40000.000000</td>\n",
       "      <td>6.000000</td>\n",
       "      <td>10.596600</td>\n",
       "      <td>10.596600</td>\n",
       "    </tr>\n",
       "  </tbody>\n",
       "</table>\n",
       "</div>"
      ],
      "text/plain": [
       "           In-State  Out-of-State  Out/In Ratio  Log(In-State)  \\\n",
       "count      5.000000      5.000000      5.000000       5.000000   \n",
       "mean   11600.000000  22600.000000      3.200000       8.660580   \n",
       "std    16071.714283  16149.303391      1.923538       1.330597   \n",
       "min     1000.000000   3000.000000      1.000000       6.907800   \n",
       "25%     4000.000000   8000.000000      2.000000       8.294100   \n",
       "50%     5000.000000  30000.000000      3.000000       8.517200   \n",
       "75%     8000.000000  32000.000000      4.000000       8.987200   \n",
       "max    40000.000000  40000.000000      6.000000      10.596600   \n",
       "\n",
       "       Log(Out-of-State)  \n",
       "count           5.000000  \n",
       "mean            9.654540  \n",
       "std             1.117408  \n",
       "min             8.006400  \n",
       "25%             8.987200  \n",
       "50%            10.309000  \n",
       "75%            10.373500  \n",
       "max            10.596600  "
      ]
     },
     "execution_count": 4,
     "metadata": {},
     "output_type": "execute_result"
    }
   ],
   "source": [
    "df.describe()"
   ]
  },
  {
   "cell_type": "code",
   "execution_count": 5,
   "id": "e1959af6",
   "metadata": {},
   "outputs": [
    {
     "data": {
      "text/plain": [
       "9.358760377094455"
      ]
     },
     "execution_count": 5,
     "metadata": {},
     "output_type": "execute_result"
    }
   ],
   "source": [
    "math.log(df.describe()[\"In-State\"][1])"
   ]
  },
  {
   "cell_type": "markdown",
   "id": "433fd179",
   "metadata": {},
   "source": [
    "Log(In-State) and log of mean(\"In-State\") are different. "
   ]
  },
  {
   "cell_type": "markdown",
   "id": "dd5b2742",
   "metadata": {},
   "source": [
    "#### (b)"
   ]
  },
  {
   "cell_type": "code",
   "execution_count": 6,
   "id": "2bd46050",
   "metadata": {},
   "outputs": [
    {
     "data": {
      "text/plain": [
       "8.517193191416238"
      ]
     },
     "execution_count": 6,
     "metadata": {},
     "output_type": "execute_result"
    }
   ],
   "source": [
    "math.log(df[\"In-State\"].median())"
   ]
  },
  {
   "cell_type": "code",
   "execution_count": 7,
   "id": "90ffcd51",
   "metadata": {},
   "outputs": [
    {
     "data": {
      "text/plain": [
       "8.5172"
      ]
     },
     "execution_count": 7,
     "metadata": {},
     "output_type": "execute_result"
    }
   ],
   "source": [
    "df[\"Log(In-State)\"].median()"
   ]
  },
  {
   "cell_type": "markdown",
   "id": "c8f15920",
   "metadata": {},
   "source": [
    "As we can see from above calculations both log of median of \"In-State\" and median of \"Log(In-State)\" are same."
   ]
  },
  {
   "cell_type": "markdown",
   "id": "6cee871b",
   "metadata": {},
   "source": [
    "#### (c)"
   ]
  },
  {
   "cell_type": "code",
   "execution_count": 8,
   "id": "317ecb47",
   "metadata": {},
   "outputs": [],
   "source": [
    "median = df[\"Out/In Ratio\"].median()"
   ]
  },
  {
   "cell_type": "code",
   "execution_count": 9,
   "id": "571cd477",
   "metadata": {},
   "outputs": [
    {
     "name": "stdout",
     "output_type": "stream",
     "text": [
      "Median of Out/In Ratio = 3.0\n",
      "Log of median of Out/In Ratio = 1.0986122886681098\n"
     ]
    }
   ],
   "source": [
    "print(f\"Median of Out/In Ratio = {median}\")\n",
    "print(f\"Log of median of Out/In Ratio = {math.log(median)}\")"
   ]
  },
  {
   "cell_type": "code",
   "execution_count": 10,
   "id": "b41d2ff5",
   "metadata": {},
   "outputs": [
    {
     "data": {
      "text/plain": [
       "1.0985999999999994"
      ]
     },
     "execution_count": 10,
     "metadata": {},
     "output_type": "execute_result"
    }
   ],
   "source": [
    "(df[\"Log(Out-of-State)\"] - df[\"Log(In-State)\"]).median()"
   ]
  },
  {
   "cell_type": "markdown",
   "id": "6eee124f",
   "metadata": {},
   "source": [
    "Both are same."
   ]
  },
  {
   "cell_type": "markdown",
   "id": "2b3cc3ad",
   "metadata": {},
   "source": [
    "### Chapter 4 Ex 19"
   ]
  },
  {
   "cell_type": "code",
   "execution_count": 11,
   "id": "b5b15a1a",
   "metadata": {},
   "outputs": [],
   "source": [
    "df_ex0419 = pd.read_csv('./Datasets/ex0221.csv')"
   ]
  },
  {
   "cell_type": "code",
   "execution_count": 12,
   "id": "1db08967",
   "metadata": {},
   "outputs": [
    {
     "data": {
      "text/html": [
       "<div>\n",
       "<style scoped>\n",
       "    .dataframe tbody tr th:only-of-type {\n",
       "        vertical-align: middle;\n",
       "    }\n",
       "\n",
       "    .dataframe tbody tr th {\n",
       "        vertical-align: top;\n",
       "    }\n",
       "\n",
       "    .dataframe thead th {\n",
       "        text-align: right;\n",
       "    }\n",
       "</style>\n",
       "<table border=\"1\" class=\"dataframe\">\n",
       "  <thead>\n",
       "    <tr style=\"text-align: right;\">\n",
       "      <th></th>\n",
       "      <th>Unnamed: 0</th>\n",
       "      <th>Humerus</th>\n",
       "      <th>Status</th>\n",
       "    </tr>\n",
       "  </thead>\n",
       "  <tbody>\n",
       "    <tr>\n",
       "      <th>0</th>\n",
       "      <td>1</td>\n",
       "      <td>0.687</td>\n",
       "      <td>Survived</td>\n",
       "    </tr>\n",
       "    <tr>\n",
       "      <th>1</th>\n",
       "      <td>2</td>\n",
       "      <td>0.703</td>\n",
       "      <td>Survived</td>\n",
       "    </tr>\n",
       "    <tr>\n",
       "      <th>2</th>\n",
       "      <td>3</td>\n",
       "      <td>0.709</td>\n",
       "      <td>Survived</td>\n",
       "    </tr>\n",
       "    <tr>\n",
       "      <th>3</th>\n",
       "      <td>4</td>\n",
       "      <td>0.715</td>\n",
       "      <td>Survived</td>\n",
       "    </tr>\n",
       "    <tr>\n",
       "      <th>4</th>\n",
       "      <td>5</td>\n",
       "      <td>0.728</td>\n",
       "      <td>Survived</td>\n",
       "    </tr>\n",
       "  </tbody>\n",
       "</table>\n",
       "</div>"
      ],
      "text/plain": [
       "   Unnamed: 0  Humerus    Status\n",
       "0           1    0.687  Survived\n",
       "1           2    0.703  Survived\n",
       "2           3    0.709  Survived\n",
       "3           4    0.715  Survived\n",
       "4           5    0.728  Survived"
      ]
     },
     "execution_count": 12,
     "metadata": {},
     "output_type": "execute_result"
    }
   ],
   "source": [
    "df_ex0419.head()"
   ]
  },
  {
   "cell_type": "markdown",
   "id": "f61b9c18",
   "metadata": {},
   "source": [
    "#### (a)"
   ]
  },
  {
   "cell_type": "code",
   "execution_count": 27,
   "id": "f6a9fd21",
   "metadata": {},
   "outputs": [
    {
     "name": "stdout",
     "output_type": "stream",
     "text": [
      "P-Value: 0.17182490521955962\n"
     ]
    }
   ],
   "source": [
    "# Calculate pvalue with rank sum test\n",
    "statistics = mannwhitneyu(df_ex0419[df_ex0419['Status']=='Survived']['Humerus'],\n",
    "                         df_ex0419[df_ex0419['Status']=='Perished']['Humerus'])\n",
    "\n",
    "print(f\"P-Value: {statistics.pvalue}\")"
   ]
  },
  {
   "cell_type": "markdown",
   "id": "3bcbc318",
   "metadata": {},
   "source": [
    "#### (b)"
   ]
  },
  {
   "cell_type": "markdown",
   "id": "20ac4166",
   "metadata": {},
   "source": [
    "### Chapter 3 Ex 21"
   ]
  },
  {
   "cell_type": "code",
   "execution_count": 28,
   "id": "8ad0139f",
   "metadata": {},
   "outputs": [],
   "source": [
    "df_ex0321 = pd.read_csv('./Datasets/ex0321.csv')"
   ]
  },
  {
   "cell_type": "code",
   "execution_count": 29,
   "id": "9384b604",
   "metadata": {},
   "outputs": [
    {
     "data": {
      "text/html": [
       "<div>\n",
       "<style scoped>\n",
       "    .dataframe tbody tr th:only-of-type {\n",
       "        vertical-align: middle;\n",
       "    }\n",
       "\n",
       "    .dataframe tbody tr th {\n",
       "        vertical-align: top;\n",
       "    }\n",
       "\n",
       "    .dataframe thead th {\n",
       "        text-align: right;\n",
       "    }\n",
       "</style>\n",
       "<table border=\"1\" class=\"dataframe\">\n",
       "  <thead>\n",
       "    <tr style=\"text-align: right;\">\n",
       "      <th></th>\n",
       "      <th>Unnamed: 0</th>\n",
       "      <th>Lifelength</th>\n",
       "      <th>Censored</th>\n",
       "      <th>Expected</th>\n",
       "    </tr>\n",
       "  </thead>\n",
       "  <tbody>\n",
       "    <tr>\n",
       "      <th>0</th>\n",
       "      <td>1</td>\n",
       "      <td>63</td>\n",
       "      <td>0</td>\n",
       "      <td>70</td>\n",
       "    </tr>\n",
       "    <tr>\n",
       "      <th>1</th>\n",
       "      <td>2</td>\n",
       "      <td>69</td>\n",
       "      <td>0</td>\n",
       "      <td>71</td>\n",
       "    </tr>\n",
       "    <tr>\n",
       "      <th>2</th>\n",
       "      <td>3</td>\n",
       "      <td>58</td>\n",
       "      <td>0</td>\n",
       "      <td>71</td>\n",
       "    </tr>\n",
       "    <tr>\n",
       "      <th>3</th>\n",
       "      <td>4</td>\n",
       "      <td>61</td>\n",
       "      <td>1</td>\n",
       "      <td>70</td>\n",
       "    </tr>\n",
       "    <tr>\n",
       "      <th>4</th>\n",
       "      <td>5</td>\n",
       "      <td>70</td>\n",
       "      <td>0</td>\n",
       "      <td>70</td>\n",
       "    </tr>\n",
       "  </tbody>\n",
       "</table>\n",
       "</div>"
      ],
      "text/plain": [
       "   Unnamed: 0  Lifelength  Censored  Expected\n",
       "0           1          63         0        70\n",
       "1           2          69         0        71\n",
       "2           3          58         0        71\n",
       "3           4          61         1        70\n",
       "4           5          70         0        70"
      ]
     },
     "execution_count": 29,
     "metadata": {},
     "output_type": "execute_result"
    }
   ],
   "source": [
    "df_ex0321.head()"
   ]
  },
  {
   "cell_type": "code",
   "execution_count": 33,
   "id": "aa8379f7",
   "metadata": {},
   "outputs": [
    {
     "name": "stdout",
     "output_type": "stream",
     "text": [
      "Not significant since pvalue = 0.16191729240170333 which is greater than 0.05\n"
     ]
    }
   ],
   "source": [
    "ttest_res = ttest_ind(df_ex0321[df_ex0321[\"Censored\"] == 0][\"Lifelength\"], df_ex0321[df_ex0321[\"Censored\"] == 0][\"Expected\"])\n",
    "one_sided = ttest_res.pvalue/2\n",
    "print(f\"Not significant since pvalue = {one_sided} which is greater than 0.05\")"
   ]
  },
  {
   "cell_type": "markdown",
   "id": "80b7bec6",
   "metadata": {},
   "source": [
    "### Chapter 3 Ex 24"
   ]
  },
  {
   "cell_type": "code",
   "execution_count": 35,
   "id": "d29e2f41",
   "metadata": {},
   "outputs": [],
   "source": [
    "df_ex0324 = pd.read_csv('./Datasets/case0102.csv')"
   ]
  },
  {
   "cell_type": "code",
   "execution_count": 36,
   "id": "529a5895",
   "metadata": {},
   "outputs": [
    {
     "data": {
      "text/html": [
       "<div>\n",
       "<style scoped>\n",
       "    .dataframe tbody tr th:only-of-type {\n",
       "        vertical-align: middle;\n",
       "    }\n",
       "\n",
       "    .dataframe tbody tr th {\n",
       "        vertical-align: top;\n",
       "    }\n",
       "\n",
       "    .dataframe thead th {\n",
       "        text-align: right;\n",
       "    }\n",
       "</style>\n",
       "<table border=\"1\" class=\"dataframe\">\n",
       "  <thead>\n",
       "    <tr style=\"text-align: right;\">\n",
       "      <th></th>\n",
       "      <th>Unnamed: 0</th>\n",
       "      <th>Salary</th>\n",
       "      <th>Sex</th>\n",
       "    </tr>\n",
       "  </thead>\n",
       "  <tbody>\n",
       "    <tr>\n",
       "      <th>0</th>\n",
       "      <td>1</td>\n",
       "      <td>3900</td>\n",
       "      <td>Female</td>\n",
       "    </tr>\n",
       "    <tr>\n",
       "      <th>1</th>\n",
       "      <td>2</td>\n",
       "      <td>4020</td>\n",
       "      <td>Female</td>\n",
       "    </tr>\n",
       "    <tr>\n",
       "      <th>2</th>\n",
       "      <td>3</td>\n",
       "      <td>4290</td>\n",
       "      <td>Female</td>\n",
       "    </tr>\n",
       "    <tr>\n",
       "      <th>3</th>\n",
       "      <td>4</td>\n",
       "      <td>4380</td>\n",
       "      <td>Female</td>\n",
       "    </tr>\n",
       "    <tr>\n",
       "      <th>4</th>\n",
       "      <td>5</td>\n",
       "      <td>4380</td>\n",
       "      <td>Female</td>\n",
       "    </tr>\n",
       "  </tbody>\n",
       "</table>\n",
       "</div>"
      ],
      "text/plain": [
       "   Unnamed: 0  Salary     Sex\n",
       "0           1    3900  Female\n",
       "1           2    4020  Female\n",
       "2           3    4290  Female\n",
       "3           4    4380  Female\n",
       "4           5    4380  Female"
      ]
     },
     "execution_count": 36,
     "metadata": {},
     "output_type": "execute_result"
    }
   ],
   "source": [
    "df_ex0324.head()"
   ]
  },
  {
   "cell_type": "code",
   "execution_count": 37,
   "id": "19e6208a",
   "metadata": {},
   "outputs": [],
   "source": [
    "df_ex0324[\"salary_log\"] = np.log(df_ex0324[\"Salary\"])"
   ]
  },
  {
   "cell_type": "code",
   "execution_count": 38,
   "id": "4fccdc82",
   "metadata": {},
   "outputs": [
    {
     "data": {
      "text/html": [
       "<div>\n",
       "<style scoped>\n",
       "    .dataframe tbody tr th:only-of-type {\n",
       "        vertical-align: middle;\n",
       "    }\n",
       "\n",
       "    .dataframe tbody tr th {\n",
       "        vertical-align: top;\n",
       "    }\n",
       "\n",
       "    .dataframe thead th {\n",
       "        text-align: right;\n",
       "    }\n",
       "</style>\n",
       "<table border=\"1\" class=\"dataframe\">\n",
       "  <thead>\n",
       "    <tr style=\"text-align: right;\">\n",
       "      <th></th>\n",
       "      <th>Unnamed: 0</th>\n",
       "      <th>Salary</th>\n",
       "      <th>Sex</th>\n",
       "      <th>salary_log</th>\n",
       "    </tr>\n",
       "  </thead>\n",
       "  <tbody>\n",
       "    <tr>\n",
       "      <th>0</th>\n",
       "      <td>1</td>\n",
       "      <td>3900</td>\n",
       "      <td>Female</td>\n",
       "      <td>8.268732</td>\n",
       "    </tr>\n",
       "    <tr>\n",
       "      <th>1</th>\n",
       "      <td>2</td>\n",
       "      <td>4020</td>\n",
       "      <td>Female</td>\n",
       "      <td>8.299037</td>\n",
       "    </tr>\n",
       "    <tr>\n",
       "      <th>2</th>\n",
       "      <td>3</td>\n",
       "      <td>4290</td>\n",
       "      <td>Female</td>\n",
       "      <td>8.364042</td>\n",
       "    </tr>\n",
       "    <tr>\n",
       "      <th>3</th>\n",
       "      <td>4</td>\n",
       "      <td>4380</td>\n",
       "      <td>Female</td>\n",
       "      <td>8.384804</td>\n",
       "    </tr>\n",
       "    <tr>\n",
       "      <th>4</th>\n",
       "      <td>5</td>\n",
       "      <td>4380</td>\n",
       "      <td>Female</td>\n",
       "      <td>8.384804</td>\n",
       "    </tr>\n",
       "  </tbody>\n",
       "</table>\n",
       "</div>"
      ],
      "text/plain": [
       "   Unnamed: 0  Salary     Sex  salary_log\n",
       "0           1    3900  Female    8.268732\n",
       "1           2    4020  Female    8.299037\n",
       "2           3    4290  Female    8.364042\n",
       "3           4    4380  Female    8.384804\n",
       "4           5    4380  Female    8.384804"
      ]
     },
     "execution_count": 38,
     "metadata": {},
     "output_type": "execute_result"
    }
   ],
   "source": [
    "df_ex0324.head()"
   ]
  },
  {
   "cell_type": "code",
   "execution_count": 40,
   "id": "29489057",
   "metadata": {},
   "outputs": [
    {
     "data": {
      "image/png": "[encoded data removed]",
      "text/plain": [
       "<Figure size 640x480 with 1 Axes>"
      ]
     },
     "metadata": {},
     "output_type": "display_data"
    }
   ],
   "source": [
    "plt.boxplot(df_ex0324[\"salary_log\"])\n",
    "plt.show()"
   ]
  },
  {
   "cell_type": "markdown",
   "id": "ad259c9c",
   "metadata": {},
   "source": [
    "###### (b)"
   ]
  },
  {
   "cell_type": "code",
   "execution_count": 44,
   "id": "eef5a964",
   "metadata": {},
   "outputs": [
    {
     "name": "stdout",
     "output_type": "stream",
     "text": [
      "One Sided pvalue= 9.245317456737838e-09\n"
     ]
    }
   ],
   "source": [
    "pval = ttest_ind(df_ex0324[df_ex0324[\"Sex\"] == \"Male\"][\"salary_log\"], df_ex0324[df_ex0324[\"Sex\"] == \"Female\"][\"salary_log\"])\n",
    "print(f\"One Sided pvalue= {pval.pvalue/2}\")"
   ]
  },
  {
   "cell_type": "code",
   "execution_count": 47,
   "id": "7ccbc4a7",
   "metadata": {},
   "outputs": [
    {
     "data": {
      "text/plain": [
       "32"
      ]
     },
     "execution_count": 47,
     "metadata": {},
     "output_type": "execute_result"
    }
   ],
   "source": [
    "len(df_ex0324[df_ex0324[\"Sex\"] == \"Male\"])"
   ]
  },
  {
   "cell_type": "markdown",
   "id": "56fe9a24",
   "metadata": {},
   "source": [
    "###### (c)"
   ]
  },
  {
   "cell_type": "code",
   "execution_count": 51,
   "id": "e727ed7e",
   "metadata": {},
   "outputs": [
    {
     "data": {
      "text/plain": [
       "8.699514748210191"
      ]
     },
     "execution_count": 51,
     "metadata": {},
     "output_type": "execute_result"
    }
   ],
   "source": [
    "np.median(df_ex0324[df_ex0324[\"Sex\"] == \"Male\"][\"salary_log\"])"
   ]
  },
  {
   "cell_type": "code",
   "execution_count": 54,
   "id": "871bbf77",
   "metadata": {},
   "outputs": [
    {
     "name": "stdout",
     "output_type": "stream",
     "text": [
      "Confidence Interval for Male: (6.660001301813784, 10.739028194606599)\n",
      "Confidence Interval for Female: (6.559954859818422, 10.560550501934944)\n"
     ]
    }
   ],
   "source": [
    "dof_male = len(df_ex0324[df_ex0324[\"Sex\"] == \"Male\"]) - 1\n",
    "dof_female = len(df_ex0324[df_ex0324[\"Sex\"] == \"Female\"]) - 1\n",
    "ci_male = t.interval(0.95, df=dof_male, loc=np.median(df_ex0324[df_ex0324[\"Sex\"] == \"Male\"][\"salary_log\"]))\n",
    "ci_female = t.interval(0.95, df=dof_female, loc=np.median(df_ex0324[df_ex0324[\"Sex\"] == \"Female\"][\"salary_log\"]))\n",
    "print(\"Confidence Interval for Male:\", ci_male)\n",
    "print(\"Confidence Interval for Female:\", ci_female)"
   ]
  },
  {
   "cell_type": "markdown",
   "id": "c0f5877c",
   "metadata": {},
   "source": [
    "### Chapter 3 Ex 25"
   ]
  },
  {
   "cell_type": "code",
   "execution_count": 55,
   "id": "9ab9079e",
   "metadata": {},
   "outputs": [],
   "source": [
    "df_ex0325 = pd.read_csv('./Datasets/case0302.csv')"
   ]
  },
  {
   "cell_type": "code",
   "execution_count": 56,
   "id": "9737764b",
   "metadata": {},
   "outputs": [
    {
     "data": {
      "text/html": [
       "<div>\n",
       "<style scoped>\n",
       "    .dataframe tbody tr th:only-of-type {\n",
       "        vertical-align: middle;\n",
       "    }\n",
       "\n",
       "    .dataframe tbody tr th {\n",
       "        vertical-align: top;\n",
       "    }\n",
       "\n",
       "    .dataframe thead th {\n",
       "        text-align: right;\n",
       "    }\n",
       "</style>\n",
       "<table border=\"1\" class=\"dataframe\">\n",
       "  <thead>\n",
       "    <tr style=\"text-align: right;\">\n",
       "      <th></th>\n",
       "      <th>Unnamed: 0</th>\n",
       "      <th>Dioxin</th>\n",
       "      <th>Veteran</th>\n",
       "    </tr>\n",
       "  </thead>\n",
       "  <tbody>\n",
       "    <tr>\n",
       "      <th>0</th>\n",
       "      <td>1</td>\n",
       "      <td>0</td>\n",
       "      <td>Vietnam</td>\n",
       "    </tr>\n",
       "    <tr>\n",
       "      <th>1</th>\n",
       "      <td>2</td>\n",
       "      <td>0</td>\n",
       "      <td>Vietnam</td>\n",
       "    </tr>\n",
       "    <tr>\n",
       "      <th>2</th>\n",
       "      <td>3</td>\n",
       "      <td>0</td>\n",
       "      <td>Vietnam</td>\n",
       "    </tr>\n",
       "    <tr>\n",
       "      <th>3</th>\n",
       "      <td>4</td>\n",
       "      <td>0</td>\n",
       "      <td>Vietnam</td>\n",
       "    </tr>\n",
       "    <tr>\n",
       "      <th>4</th>\n",
       "      <td>5</td>\n",
       "      <td>0</td>\n",
       "      <td>Vietnam</td>\n",
       "    </tr>\n",
       "  </tbody>\n",
       "</table>\n",
       "</div>"
      ],
      "text/plain": [
       "   Unnamed: 0  Dioxin  Veteran\n",
       "0           1       0  Vietnam\n",
       "1           2       0  Vietnam\n",
       "2           3       0  Vietnam\n",
       "3           4       0  Vietnam\n",
       "4           5       0  Vietnam"
      ]
     },
     "execution_count": 56,
     "metadata": {},
     "output_type": "execute_result"
    }
   ],
   "source": [
    "df_ex0325.head()"
   ]
  },
  {
   "cell_type": "code",
   "execution_count": 61,
   "id": "cf2330f7",
   "metadata": {},
   "outputs": [
    {
     "name": "stdout",
     "output_type": "stream",
     "text": [
      "One sided pvalue= 0.39630247826778225\n"
     ]
    }
   ],
   "source": [
    "ttest_res = ttest_ind(df_ex0325[df_ex0325[\"Veteran\"] == \"Vietnam\"][\"Dioxin\"], df_ex0325[df_ex0325[\"Veteran\"] == \"Other\"][\"Dioxin\"])\n",
    "print(f\"One sided pvalue= {ttest_res.pvalue/2}\")"
   ]
  },
  {
   "cell_type": "code",
   "execution_count": 73,
   "id": "0f9bd363",
   "metadata": {},
   "outputs": [
    {
     "data": {
      "text/html": [
       "<div>\n",
       "<style scoped>\n",
       "    .dataframe tbody tr th:only-of-type {\n",
       "        vertical-align: middle;\n",
       "    }\n",
       "\n",
       "    .dataframe tbody tr th {\n",
       "        vertical-align: top;\n",
       "    }\n",
       "\n",
       "    .dataframe thead th {\n",
       "        text-align: right;\n",
       "    }\n",
       "</style>\n",
       "<table border=\"1\" class=\"dataframe\">\n",
       "  <thead>\n",
       "    <tr style=\"text-align: right;\">\n",
       "      <th></th>\n",
       "      <th>Unnamed: 0</th>\n",
       "      <th>Dioxin</th>\n",
       "      <th>Veteran</th>\n",
       "    </tr>\n",
       "  </thead>\n",
       "  <tbody>\n",
       "    <tr>\n",
       "      <th>645</th>\n",
       "      <td>646</td>\n",
       "      <td>45</td>\n",
       "      <td>Vietnam</td>\n",
       "    </tr>\n",
       "    <tr>\n",
       "      <th>644</th>\n",
       "      <td>645</td>\n",
       "      <td>25</td>\n",
       "      <td>Vietnam</td>\n",
       "    </tr>\n",
       "  </tbody>\n",
       "</table>\n",
       "</div>"
      ],
      "text/plain": [
       "     Unnamed: 0  Dioxin  Veteran\n",
       "645         646      45  Vietnam\n",
       "644         645      25  Vietnam"
      ]
     },
     "execution_count": 73,
     "metadata": {},
     "output_type": "execute_result"
    }
   ],
   "source": [
    "df_ex0325[df_ex0325[\"Veteran\"] == \"Vietnam\"].sort_values('Dioxin', ascending=False).head(n=2)"
   ]
  },
  {
   "cell_type": "markdown",
   "id": "e5bf912b",
   "metadata": {},
   "source": [
    "###### Largest 2 values are 45 and 25, so without 25 ttest would be as below:"
   ]
  },
  {
   "cell_type": "code",
   "execution_count": 77,
   "id": "46d82830",
   "metadata": {},
   "outputs": [],
   "source": [
    "viet_df = df_ex0325[(df_ex0325[\"Veteran\"] == \"Vietnam\")]\n",
    "viet_df = viet_df[viet_df[\"Dioxin\"] < 25]\n",
    "\n",
    "other_df = df_ex0325[(df_ex0325[\"Veteran\"] == \"Other\")]\n",
    "other_df = other_df[(other_df[\"Dioxin\"] < 25)]"
   ]
  },
  {
   "cell_type": "code",
   "execution_count": 78,
   "id": "92076d5a",
   "metadata": {},
   "outputs": [
    {
     "name": "stdout",
     "output_type": "stream",
     "text": [
      "One sided pvalue= 0.46141180772176227\n"
     ]
    }
   ],
   "source": [
    "ttest_res_wo = ttest_ind(viet_df[\"Dioxin\"], other_df[\"Dioxin\"])\n",
    "print(f\"One sided pvalue= {ttest_res_wo.pvalue/2}\")"
   ]
  },
  {
   "cell_type": "markdown",
   "id": "4dad7a10",
   "metadata": {},
   "source": [
    "### Chapter 3 Ex 26"
   ]
  },
  {
   "cell_type": "code",
   "execution_count": 79,
   "id": "999feaeb",
   "metadata": {},
   "outputs": [],
   "source": [
    "df_ex0326 = df_ex0325.copy()"
   ]
  },
  {
   "cell_type": "code",
   "execution_count": 81,
   "id": "9ac86692",
   "metadata": {},
   "outputs": [],
   "source": [
    "df_ex0326[\"Dioxin_Log\"] = np.log(df_ex0326[\"Dioxin\"] + 0.5)"
   ]
  },
  {
   "cell_type": "code",
   "execution_count": 82,
   "id": "0d6b1382",
   "metadata": {},
   "outputs": [
    {
     "data": {
      "text/html": [
       "<div>\n",
       "<style scoped>\n",
       "    .dataframe tbody tr th:only-of-type {\n",
       "        vertical-align: middle;\n",
       "    }\n",
       "\n",
       "    .dataframe tbody tr th {\n",
       "        vertical-align: top;\n",
       "    }\n",
       "\n",
       "    .dataframe thead th {\n",
       "        text-align: right;\n",
       "    }\n",
       "</style>\n",
       "<table border=\"1\" class=\"dataframe\">\n",
       "  <thead>\n",
       "    <tr style=\"text-align: right;\">\n",
       "      <th></th>\n",
       "      <th>Unnamed: 0</th>\n",
       "      <th>Dioxin</th>\n",
       "      <th>Veteran</th>\n",
       "      <th>Dioxin_Log</th>\n",
       "    </tr>\n",
       "  </thead>\n",
       "  <tbody>\n",
       "    <tr>\n",
       "      <th>0</th>\n",
       "      <td>1</td>\n",
       "      <td>0</td>\n",
       "      <td>Vietnam</td>\n",
       "      <td>-0.693147</td>\n",
       "    </tr>\n",
       "    <tr>\n",
       "      <th>1</th>\n",
       "      <td>2</td>\n",
       "      <td>0</td>\n",
       "      <td>Vietnam</td>\n",
       "      <td>-0.693147</td>\n",
       "    </tr>\n",
       "    <tr>\n",
       "      <th>2</th>\n",
       "      <td>3</td>\n",
       "      <td>0</td>\n",
       "      <td>Vietnam</td>\n",
       "      <td>-0.693147</td>\n",
       "    </tr>\n",
       "    <tr>\n",
       "      <th>3</th>\n",
       "      <td>4</td>\n",
       "      <td>0</td>\n",
       "      <td>Vietnam</td>\n",
       "      <td>-0.693147</td>\n",
       "    </tr>\n",
       "    <tr>\n",
       "      <th>4</th>\n",
       "      <td>5</td>\n",
       "      <td>0</td>\n",
       "      <td>Vietnam</td>\n",
       "      <td>-0.693147</td>\n",
       "    </tr>\n",
       "  </tbody>\n",
       "</table>\n",
       "</div>"
      ],
      "text/plain": [
       "   Unnamed: 0  Dioxin  Veteran  Dioxin_Log\n",
       "0           1       0  Vietnam   -0.693147\n",
       "1           2       0  Vietnam   -0.693147\n",
       "2           3       0  Vietnam   -0.693147\n",
       "3           4       0  Vietnam   -0.693147\n",
       "4           5       0  Vietnam   -0.693147"
      ]
     },
     "execution_count": 82,
     "metadata": {},
     "output_type": "execute_result"
    }
   ],
   "source": [
    "df_ex0326.head()"
   ]
  },
  {
   "cell_type": "markdown",
   "id": "7b5f918b",
   "metadata": {},
   "source": [
    "###### (a)"
   ]
  },
  {
   "cell_type": "code",
   "execution_count": 85,
   "id": "e32fcfb8",
   "metadata": {},
   "outputs": [
    {
     "data": {
      "image/png": "[encoded data removed]",
      "text/plain": [
       "<Figure size 640x480 with 1 Axes>"
      ]
     },
     "metadata": {},
     "output_type": "display_data"
    }
   ],
   "source": [
    "plt.boxplot(df_ex0326[df_ex0326[\"Veteran\"] == \"Vietnam\"][\"Dioxin_Log\"])\n",
    "plt.show()"
   ]
  },
  {
   "cell_type": "code",
   "execution_count": 84,
   "id": "dc01e90a",
   "metadata": {},
   "outputs": [
    {
     "data": {
      "image/png": "[encoded data removed]",
      "text/plain": [
       "<Figure size 640x480 with 1 Axes>"
      ]
     },
     "metadata": {},
     "output_type": "display_data"
    }
   ],
   "source": [
    "plt.boxplot(df_ex0326[df_ex0326[\"Veteran\"] == \"Other\"][\"Dioxin_Log\"])\n",
    "plt.show()"
   ]
  },
  {
   "cell_type": "markdown",
   "id": "b8b32a6a",
   "metadata": {},
   "source": [
    "###### (b)"
   ]
  },
  {
   "cell_type": "code",
   "execution_count": 87,
   "id": "9f8209d1",
   "metadata": {},
   "outputs": [
    {
     "name": "stdout",
     "output_type": "stream",
     "text": [
      "one sided pvalue = 0.19078673692068265\n"
     ]
    }
   ],
   "source": [
    "ttest_res = ttest_ind(df_ex0326[df_ex0326[\"Veteran\"] == \"Vietnam\"][\"Dioxin_Log\"], df_ex0326[df_ex0326[\"Veteran\"] == \"Other\"][\"Dioxin_Log\"])\n",
    "ttest_res\n",
    "print(f\"one sided pvalue = {ttest_res.pvalue/2}\")"
   ]
  },
  {
   "cell_type": "markdown",
   "id": "f0d1dfb9",
   "metadata": {},
   "source": [
    "###### (c)"
   ]
  },
  {
   "cell_type": "code",
   "execution_count": 92,
   "id": "bb3e1d46",
   "metadata": {},
   "outputs": [
    {
     "name": "stdout",
     "output_type": "stream",
     "text": [
      "(-0.5011006425380249, 3.4261967942833804) (-0.565970917958976, 3.4039977049045618)\n",
      "(0.605863453513055, 30.75943554828799) (0.5678085834885581, 30.08412743430105)\n"
     ]
    }
   ],
   "source": [
    "viet_df = df_ex0326[df_ex0326[\"Veteran\"] == \"Vietnam\"]\n",
    "other_df = df_ex0326[df_ex0326[\"Veteran\"] == \"Other\"]\n",
    "\n",
    "ci_viet = t.interval(0.95, df = len(viet_df) - 1, loc=np.mean(viet_df[\"Dioxin_Log\"]))\n",
    "ci_other = t.interval(0.95, df = len(other_df) - 1, loc=np.mean(other_df[\"Dioxin_Log\"]))\n",
    "orig_ci_viet = (np.exp(ci_viet[0]), np.exp(ci_viet[1]))\n",
    "orig_ci_other = (np.exp(ci_other[0]), np.exp(ci_other[1]))\n",
    "print(ci_viet, ci_other)\n",
    "print(orig_ci_viet, orig_ci_other)"
   ]
  },
  {
   "cell_type": "markdown",
   "id": "85c039b4",
   "metadata": {},
   "source": [
    "### Chapter 3 Ex 29"
   ]
  },
  {
   "cell_type": "code",
   "execution_count": 93,
   "id": "1c8d606b",
   "metadata": {},
   "outputs": [],
   "source": [
    "df_ex0329 = pd.read_csv('./Datasets/case0301.csv')"
   ]
  },
  {
   "cell_type": "code",
   "execution_count": 94,
   "id": "74c1e338",
   "metadata": {},
   "outputs": [
    {
     "data": {
      "text/html": [
       "<div>\n",
       "<style scoped>\n",
       "    .dataframe tbody tr th:only-of-type {\n",
       "        vertical-align: middle;\n",
       "    }\n",
       "\n",
       "    .dataframe tbody tr th {\n",
       "        vertical-align: top;\n",
       "    }\n",
       "\n",
       "    .dataframe thead th {\n",
       "        text-align: right;\n",
       "    }\n",
       "</style>\n",
       "<table border=\"1\" class=\"dataframe\">\n",
       "  <thead>\n",
       "    <tr style=\"text-align: right;\">\n",
       "      <th></th>\n",
       "      <th>Unnamed: 0</th>\n",
       "      <th>Rainfall</th>\n",
       "      <th>Treatment</th>\n",
       "    </tr>\n",
       "  </thead>\n",
       "  <tbody>\n",
       "    <tr>\n",
       "      <th>0</th>\n",
       "      <td>1</td>\n",
       "      <td>1202.6</td>\n",
       "      <td>Unseeded</td>\n",
       "    </tr>\n",
       "    <tr>\n",
       "      <th>1</th>\n",
       "      <td>2</td>\n",
       "      <td>830.1</td>\n",
       "      <td>Unseeded</td>\n",
       "    </tr>\n",
       "    <tr>\n",
       "      <th>2</th>\n",
       "      <td>3</td>\n",
       "      <td>372.4</td>\n",
       "      <td>Unseeded</td>\n",
       "    </tr>\n",
       "    <tr>\n",
       "      <th>3</th>\n",
       "      <td>4</td>\n",
       "      <td>345.5</td>\n",
       "      <td>Unseeded</td>\n",
       "    </tr>\n",
       "    <tr>\n",
       "      <th>4</th>\n",
       "      <td>5</td>\n",
       "      <td>321.2</td>\n",
       "      <td>Unseeded</td>\n",
       "    </tr>\n",
       "  </tbody>\n",
       "</table>\n",
       "</div>"
      ],
      "text/plain": [
       "   Unnamed: 0  Rainfall Treatment\n",
       "0           1    1202.6  Unseeded\n",
       "1           2     830.1  Unseeded\n",
       "2           3     372.4  Unseeded\n",
       "3           4     345.5  Unseeded\n",
       "4           5     321.2  Unseeded"
      ]
     },
     "execution_count": 94,
     "metadata": {},
     "output_type": "execute_result"
    }
   ],
   "source": [
    "df_ex0329.head()"
   ]
  },
  {
   "cell_type": "markdown",
   "id": "946d4775",
   "metadata": {},
   "source": [
    "###### (a)"
   ]
  },
  {
   "cell_type": "code",
   "execution_count": 98,
   "id": "5c8036d9",
   "metadata": {},
   "outputs": [
    {
     "data": {
      "text/html": [
       "<div>\n",
       "<style scoped>\n",
       "    .dataframe tbody tr th:only-of-type {\n",
       "        vertical-align: middle;\n",
       "    }\n",
       "\n",
       "    .dataframe tbody tr th {\n",
       "        vertical-align: top;\n",
       "    }\n",
       "\n",
       "    .dataframe thead th {\n",
       "        text-align: right;\n",
       "    }\n",
       "</style>\n",
       "<table border=\"1\" class=\"dataframe\">\n",
       "  <thead>\n",
       "    <tr style=\"text-align: right;\">\n",
       "      <th></th>\n",
       "      <th>Unnamed: 0</th>\n",
       "      <th>Rainfall</th>\n",
       "      <th>Treatment</th>\n",
       "      <th>Rainfall_100</th>\n",
       "      <th>Rainfall_200</th>\n",
       "      <th>Rainfall_300</th>\n",
       "      <th>Rainfall_400</th>\n",
       "    </tr>\n",
       "  </thead>\n",
       "  <tbody>\n",
       "    <tr>\n",
       "      <th>0</th>\n",
       "      <td>1</td>\n",
       "      <td>1202.6</td>\n",
       "      <td>Unseeded</td>\n",
       "      <td>1302.6</td>\n",
       "      <td>1402.6</td>\n",
       "      <td>1502.6</td>\n",
       "      <td>1602.6</td>\n",
       "    </tr>\n",
       "    <tr>\n",
       "      <th>1</th>\n",
       "      <td>2</td>\n",
       "      <td>830.1</td>\n",
       "      <td>Unseeded</td>\n",
       "      <td>930.1</td>\n",
       "      <td>1030.1</td>\n",
       "      <td>1130.1</td>\n",
       "      <td>1230.1</td>\n",
       "    </tr>\n",
       "    <tr>\n",
       "      <th>2</th>\n",
       "      <td>3</td>\n",
       "      <td>372.4</td>\n",
       "      <td>Unseeded</td>\n",
       "      <td>472.4</td>\n",
       "      <td>572.4</td>\n",
       "      <td>672.4</td>\n",
       "      <td>772.4</td>\n",
       "    </tr>\n",
       "    <tr>\n",
       "      <th>3</th>\n",
       "      <td>4</td>\n",
       "      <td>345.5</td>\n",
       "      <td>Unseeded</td>\n",
       "      <td>445.5</td>\n",
       "      <td>545.5</td>\n",
       "      <td>645.5</td>\n",
       "      <td>745.5</td>\n",
       "    </tr>\n",
       "    <tr>\n",
       "      <th>4</th>\n",
       "      <td>5</td>\n",
       "      <td>321.2</td>\n",
       "      <td>Unseeded</td>\n",
       "      <td>421.2</td>\n",
       "      <td>521.2</td>\n",
       "      <td>621.2</td>\n",
       "      <td>721.2</td>\n",
       "    </tr>\n",
       "  </tbody>\n",
       "</table>\n",
       "</div>"
      ],
      "text/plain": [
       "   Unnamed: 0  Rainfall Treatment  Rainfall_100  Rainfall_200  Rainfall_300  \\\n",
       "0           1    1202.6  Unseeded        1302.6        1402.6        1502.6   \n",
       "1           2     830.1  Unseeded         930.1        1030.1        1130.1   \n",
       "2           3     372.4  Unseeded         472.4         572.4         672.4   \n",
       "3           4     345.5  Unseeded         445.5         545.5         645.5   \n",
       "4           5     321.2  Unseeded         421.2         521.2         621.2   \n",
       "\n",
       "   Rainfall_400  \n",
       "0        1602.6  \n",
       "1        1230.1  \n",
       "2         772.4  \n",
       "3         745.5  \n",
       "4         721.2  "
      ]
     },
     "execution_count": 98,
     "metadata": {},
     "output_type": "execute_result"
    }
   ],
   "source": [
    "unseeded_df = df_ex0329[df_ex0329[\"Treatment\"] == \"Unseeded\"].copy()\n",
    "unseeded_df[\"Rainfall_100\"] = unseeded_df[\"Rainfall\"] + 100\n",
    "unseeded_df[\"Rainfall_200\"] = unseeded_df[\"Rainfall\"] + 200\n",
    "unseeded_df[\"Rainfall_300\"] = unseeded_df[\"Rainfall\"] + 300\n",
    "unseeded_df[\"Rainfall_400\"] = unseeded_df[\"Rainfall\"] + 400\n",
    "unseeded_df.head()"
   ]
  },
  {
   "cell_type": "code",
   "execution_count": 101,
   "id": "4f90b9f5",
   "metadata": {},
   "outputs": [
    {
     "data": {
      "image/png": "[encoded data removed]",
      "text/plain": [
       "<Figure size 640x480 with 1 Axes>"
      ]
     },
     "metadata": {},
     "output_type": "display_data"
    }
   ],
   "source": [
    "plt.boxplot([unseeded_df[\"Rainfall\"], \n",
    "            unseeded_df[\"Rainfall_100\"], \n",
    "            unseeded_df[\"Rainfall_200\"], \n",
    "            unseeded_df[\"Rainfall_300\"], \n",
    "            unseeded_df[\"Rainfall_400\"]])\n",
    "plt.show()"
   ]
  },
  {
   "cell_type": "markdown",
   "id": "3c07b506",
   "metadata": {},
   "source": [
    "###### (b)"
   ]
  },
  {
   "cell_type": "code",
   "execution_count": 102,
   "id": "635b0f2a",
   "metadata": {},
   "outputs": [
    {
     "data": {
      "image/png": "[encoded data removed]",
      "text/plain": [
       "<Figure size 640x480 with 1 Axes>"
      ]
     },
     "metadata": {},
     "output_type": "display_data"
    }
   ],
   "source": [
    "unseeded_df['Rainfall_2'] = unseeded_df['Rainfall']*2\n",
    "unseeded_df['Rainfall_3'] = unseeded_df['Rainfall']*3\n",
    "unseeded_df['Rainfall_4'] = unseeded_df['Rainfall']*4\n",
    "unseeded_df['Rainfall_5'] = unseeded_df['Rainfall']*5\n",
    "plt.boxplot([unseeded_df[\"Rainfall\"], \n",
    "            unseeded_df[\"Rainfall_2\"], \n",
    "            unseeded_df[\"Rainfall_3\"], \n",
    "            unseeded_df[\"Rainfall_4\"], \n",
    "            unseeded_df[\"Rainfall_5\"]])\n",
    "plt.show()"
   ]
  },
  {
   "cell_type": "markdown",
   "id": "22fa7238",
   "metadata": {},
   "source": [
    "Spread of the data is greater for multiplicative than additive."
   ]
  },
  {
   "cell_type": "markdown",
   "id": "71bca9cd",
   "metadata": {},
   "source": [
    "### TODO Chapter 4 Ex 20, 21, 22, 26, 28"
   ]
  }
 ],
 "metadata": {
  "kernelspec": {
   "display_name": "Python 3 (ipykernel)",
   "language": "python",
   "name": "python3"
  },
  "language_info": {
   "codemirror_mode": {
    "name": "ipython",
    "version": 3
   },
   "file_extension": ".py",
   "mimetype": "text/x-python",
   "name": "python",
   "nbconvert_exporter": "python",
   "pygments_lexer": "ipython3",
   "version": "3.8.13"
  }
 },
 "nbformat": 4,
 "nbformat_minor": 5
}
